{
 "cells": [
  {
   "cell_type": "markdown",
   "metadata": {},
   "source": [
    "# Assignment 3\n",
    "## Numerical Optimization & Large Scale Linear Algebra\n",
    "### Professor: P. Vassalos\n",
    "\n",
    "### Stratos Gounidellis, DS3517005"
   ]
  },
  {
   "cell_type": "code",
   "execution_count": 1,
   "metadata": {},
   "outputs": [
    {
     "data": {
      "text/plain": [
       "{'divide': 'warn', 'invalid': 'warn', 'over': 'warn', 'under': 'ignore'}"
      ]
     },
     "execution_count": 1,
     "metadata": {},
     "output_type": "execute_result"
    }
   ],
   "source": [
    "# import necessary libraries\n",
    "import numpy as np\n",
    "from scipy import sparse\n",
    "from numpy.linalg import norm\n",
    "import time\n",
    "np.seterr(divide='ignore')\n"
   ]
  },
  {
   "cell_type": "markdown",
   "metadata": {},
   "source": [
    "## Methods' Definitions"
   ]
  },
  {
   "cell_type": "code",
   "execution_count": 2,
   "metadata": {},
   "outputs": [],
   "source": [
    "# method to parse the data. The input file contains\n",
    "# in compressed form the connectivity matrix for the webpages\n",
    "# of Stanford University. Obviously, storing all that information\n",
    "# naively in a numpy array would lead to memory error. Thus, sparse\n",
    "# matrix is used.\n",
    "def load_data(data):\n",
    "    # list to store the origin pages,\n",
    "    # i.e. the pages showing to other pages\n",
    "    from_pages = []\n",
    "    # list to store the destination pages,\n",
    "    # i.e. the pages being showed by other pages\n",
    "    to_pages = []\n",
    "    # dictionary having as a key a webpage and as value\n",
    "    # the number of its invoming edges\n",
    "    dict_out = {}\n",
    "    dict_in = {}\n",
    "    with open(data, 'r') as f:\n",
    "        # for each line of the initial data file\n",
    "        for line in f.readlines():\n",
    "            # get the item of the first column\n",
    "            # and substract one. This is done because the ids of webpages\n",
    "            # begin from 1 but the indexes for matrices begine from 0. So\n",
    "            # 1 will stand for 0.\n",
    "            from_page = int(line.split()[0]) - 1\n",
    "            # Apply the same logic as above for the element of the second\n",
    "            # column.\n",
    "            to_page = int(line.split()[1]) - 1\n",
    "            # append the the from page to the relative list\n",
    "            from_pages.append(from_page)\n",
    "            # append the the to page to the relative list\n",
    "            to_pages.append(to_page)\n",
    "            # fill the dictionary by counting how many times\n",
    "            # each destination-page has appeared.\n",
    "            if from_page not in dict_out.keys():\n",
    "                dict_out[from_page] = 1\n",
    "            else:\n",
    "                dict_out[from_page] += 1\n",
    "            if to_page not in dict_in.keys():\n",
    "                dict_in[to_page] = [from_page]\n",
    "            else:\n",
    "                dict_in[to_page].append(from_page)\n",
    "            \n",
    "    # compute number of edges\n",
    "    edges = len(from_pages)\n",
    "    # compute number of nodes\n",
    "    nodes = len(set(from_pages) | set(to_pages))\n",
    "    \n",
    "    for node in range(nodes):  \n",
    "        if node not in dict_in.keys():\n",
    "            dict_in[node] = []\n",
    "\n",
    "    # initialize a row-based linked list sparse matrix\n",
    "    # that matrix will be used for the Gauss-Seidel implementation\n",
    "    # of the PageRank\n",
    "    D = sparse.lil_matrix((nodes, 1))\n",
    "    for key in dict_out.keys():\n",
    "        D[key] = 1/dict_out[key]\n",
    "    # fill the connectivity matrix, adjacency matrix. A sparse structure \n",
    "    # is used. That way the implementation is extremely memory efficient.\n",
    "    csr_m = sparse.csr_matrix(([1]*edges,\n",
    "                               (to_pages, from_pages)),\n",
    "                              shape=(nodes, nodes))\n",
    "    # return the two created matrices\n",
    "    return csr_m, D, dict_in\n"
   ]
  },
  {
   "cell_type": "code",
   "execution_count": 3,
   "metadata": {},
   "outputs": [],
   "source": [
    "def pagerank_galgo(G, alpha=0.85, tol=10**-8):\n",
    "    # The following implementation is based on: http://infolab.stanford.edu/~ullman/mmds/ch5.pdf.\n",
    "    # Additionaly, the implementation is based on the lectures of the coures \"Data Mining\" of \n",
    "    # the professor Yannis Kotidis (AUEB).\n",
    "    # The matrix G is the adjacency matrix with dead-ends and closed communities or spidertraps.\n",
    "    # Those problems will be tackled during the iterations of the algorithm. In other words, we do  \n",
    "    # not pre-adjust the matrix P. Instead we reinsert leaked page-rank back into computation.\n",
    "    \n",
    "    # compute the number of nodes, the matrix is symmetric\n",
    "    n = G.shape[0]\n",
    "    # compute the ratio of the out degree of each node\n",
    "    # to the alpha\n",
    "    out_alpha = G.sum(axis=0).T/alpha\n",
    "    r = np.ones((n,1))/n\n",
    "    error = 1\n",
    "    t = 0\n",
    "    while error > tol:\n",
    "        t += 1\n",
    "        r_new = G.dot((r/out_alpha))\n",
    "        #  L≤alpha due to dead-ends\n",
    "        L = r_new.sum()\n",
    "        # re-insert leaked page-rank\n",
    "        # now all ranks add to one\n",
    "        r_new += (1-L)/n\n",
    "        # compute the error as the euclidean norm of the\n",
    "        # previous ranks and the new ranks\n",
    "        error = np.linalg.norm(r-r_new)\n",
    "        # store the new ranks as the ranks of the current\n",
    "        # iteration\n",
    "        if t == 2:\n",
    "            # list to return the nodes that converged from the\n",
    "            # second iteration\n",
    "            list_conv = []\n",
    "            for i in range(r.shape[0]):\n",
    "                if np.linalg.norm(r[i]-r_new[i]) < tol:\n",
    "                    list_conv.append(i)\n",
    "        r = r_new\n",
    "    return r, t, list_conv"
   ]
  },
  {
   "cell_type": "code",
   "execution_count": 4,
   "metadata": {},
   "outputs": [],
   "source": [
    "def pagerank_gs(tol, G, D, dict_in, alpha):\n",
    "    # in that approach a linear system approach is used to solve\n",
    "    # get the ranks of each webpage\n",
    "    \n",
    "    # the initial solution is again given from the uniform distribution\n",
    "    # i.e. we give equal weights to each webpage\n",
    "    x_old = np.ones(G.shape[0])/G.shape[0]\n",
    "    t = 0\n",
    "    error = 1\n",
    "    b = 1/G.shape[0]\n",
    "    D = alpha*D\n",
    "    x = x_old.copy()\n",
    "    \n",
    "    # apply the element-wise formula for the Gauss–Seidel method for \n",
    "    # the pagerank. That formula looks a lot like the Jacobi formula \n",
    "    # and it is the same with SOR for omega equals to 1. As input it\n",
    "    # is used the initial matrix P without any preadjustments as well\n",
    "    # as a dictionary showing all the in-edged of each webpage. In general,\n",
    "    # the following implementation scheme is based on the paper:\n",
    "    # http://www.ece.ucsb.edu/~hespanha/published/2018ACC_0753_MS.pdf\n",
    "    while error > tol:\n",
    "        t += 1\n",
    "        for i in range(G.shape[0]):\n",
    "\n",
    "            sum_before = 0\n",
    "            sum_after = 0\n",
    "            for j in dict_in[i]:\n",
    "                if j < i:\n",
    "                    sum_before += D.data[j][0] * x[j]\n",
    "\n",
    "                if j > i:\n",
    "                    sum_after += D.data[j][0] * x_old[j]\n",
    "\n",
    "            x[i] = b + sum_before + sum_after\n",
    "\n",
    "        error = np.linalg.norm(x-x_old)/np.linalg.norm(x)\n",
    "        if t == 2:\n",
    "            # list to return the nodes that converged from the\n",
    "            # second iteration\n",
    "            list_conv = []\n",
    "            for i in range(x.shape[0]):\n",
    "                if np.linalg.norm(x[i]-x_old[i]) < tol:\n",
    "                    list_conv.append(i)\n",
    "\n",
    "        print('Iteration:', t, '==> Relative Error:', error)\n",
    "        x_old = x.copy()\n",
    "\n",
    "    return x, list_conv\n"
   ]
  },
  {
   "cell_type": "markdown",
   "metadata": {},
   "source": [
    "## Data Loading"
   ]
  },
  {
   "cell_type": "code",
   "execution_count": 5,
   "metadata": {},
   "outputs": [],
   "source": [
    "csr_m, D, dict_in = load_data(\"stanweb.dat\")\n"
   ]
  },
  {
   "cell_type": "markdown",
   "metadata": {},
   "source": [
    "## Question 1a"
   ]
  },
  {
   "cell_type": "markdown",
   "metadata": {},
   "source": [
    "### i. Google's Algorithm - Power method"
   ]
  },
  {
   "cell_type": "code",
   "execution_count": 6,
   "metadata": {},
   "outputs": [
    {
     "name": "stdout",
     "output_type": "stream",
     "text": [
      "Time of Pagerank with Google's Algorithm: 12.071921825408936 seconds\n",
      "Number of iterations: 72\n"
     ]
    }
   ],
   "source": [
    "start_time = time.time()\n",
    "pr, t, list_conv = pagerank_galgo(csr_m)\n",
    "print(\"Time of Pagerank with Google's Algorithm:\",\n",
    "      time.time() - start_time, \"seconds\")\n",
    "print (\"Number of iterations:\", t)\n",
    "mat_prg = np.asarray(pr).ravel()\n"
   ]
  },
  {
   "cell_type": "markdown",
   "metadata": {},
   "source": [
    "### ii. Solution of the corresponding system - Gauss Seidel"
   ]
  },
  {
   "cell_type": "code",
   "execution_count": 40,
   "metadata": {
    "scrolled": true
   },
   "outputs": [
    {
     "name": "stdout",
     "output_type": "stream",
     "text": [
      "Iteration: 1 ==> Relative Error: 0.997605864804\n",
      "Iteration: 2 ==> Relative Error: 0.405410982604\n",
      "Iteration: 3 ==> Relative Error: 0.220473733399\n",
      "Iteration: 4 ==> Relative Error: 0.140081576635\n",
      "Iteration: 5 ==> Relative Error: 0.091657994247\n",
      "Iteration: 6 ==> Relative Error: 0.0620818940228\n",
      "Iteration: 7 ==> Relative Error: 0.0428958007111\n",
      "Iteration: 8 ==> Relative Error: 0.0300712256227\n",
      "Iteration: 9 ==> Relative Error: 0.0213046475688\n",
      "Iteration: 10 ==> Relative Error: 0.0152100110466\n",
      "Iteration: 11 ==> Relative Error: 0.0109212481268\n",
      "Iteration: 12 ==> Relative Error: 0.00787490996276\n",
      "Iteration: 13 ==> Relative Error: 0.00569654013327\n",
      "Iteration: 14 ==> Relative Error: 0.00413075162436\n",
      "Iteration: 15 ==> Relative Error: 0.00300091286783\n",
      "Iteration: 16 ==> Relative Error: 0.0021832470942\n",
      "Iteration: 17 ==> Relative Error: 0.00159017458923\n",
      "Iteration: 18 ==> Relative Error: 0.00115924626687\n",
      "Iteration: 19 ==> Relative Error: 0.000845713825258\n",
      "Iteration: 20 ==> Relative Error: 0.000617347001675\n",
      "Iteration: 21 ==> Relative Error: 0.000450871954604\n",
      "Iteration: 22 ==> Relative Error: 0.000329428218355\n",
      "Iteration: 23 ==> Relative Error: 0.000240785555673\n",
      "Iteration: 24 ==> Relative Error: 0.000176052019679\n",
      "Iteration: 25 ==> Relative Error: 0.000128760165195\n",
      "Iteration: 26 ==> Relative Error: 9.41971535803e-05\n",
      "Iteration: 27 ==> Relative Error: 6.89295635546e-05\n",
      "Iteration: 28 ==> Relative Error: 5.04514751382e-05\n",
      "Iteration: 29 ==> Relative Error: 3.69354300863e-05\n",
      "Iteration: 30 ==> Relative Error: 2.70460425939e-05\n",
      "Iteration: 31 ==> Relative Error: 1.98088565102e-05\n",
      "Iteration: 32 ==> Relative Error: 1.45110989143e-05\n",
      "Iteration: 33 ==> Relative Error: 1.06324551869e-05\n",
      "Iteration: 34 ==> Relative Error: 7.79198333925e-06\n",
      "Iteration: 35 ==> Relative Error: 5.71155359947e-06\n",
      "Iteration: 36 ==> Relative Error: 4.18734574823e-06\n",
      "Iteration: 37 ==> Relative Error: 3.0705514705e-06\n",
      "Iteration: 38 ==> Relative Error: 2.25200887779e-06\n",
      "Iteration: 39 ==> Relative Error: 1.65203654351e-06\n",
      "Iteration: 40 ==> Relative Error: 1.21211433199e-06\n",
      "Iteration: 41 ==> Relative Error: 8.89544911073e-07\n",
      "Iteration: 42 ==> Relative Error: 6.52927446958e-07\n",
      "Iteration: 43 ==> Relative Error: 4.79367636949e-07\n",
      "Iteration: 44 ==> Relative Error: 3.52000716052e-07\n",
      "Iteration: 45 ==> Relative Error: 2.58543509617e-07\n",
      "Iteration: 46 ==> Relative Error: 1.89929640488e-07\n",
      "Iteration: 47 ==> Relative Error: 1.39565521165e-07\n",
      "Iteration: 48 ==> Relative Error: 1.02572250883e-07\n",
      "Iteration: 49 ==> Relative Error: 7.54087847464e-08\n",
      "Iteration: 50 ==> Relative Error: 5.54468211518e-08\n",
      "Iteration: 51 ==> Relative Error: 4.07839508046e-08\n",
      "Iteration: 52 ==> Relative Error: 3.00026327694e-08\n",
      "Iteration: 53 ==> Relative Error: 2.20805210411e-08\n",
      "Iteration: 54 ==> Relative Error: 1.6252093715e-08\n",
      "Iteration: 55 ==> Relative Error: 1.19678562618e-08\n",
      "Iteration: 56 ==> Relative Error: 8.81379738048e-09\n",
      "Time of Pagerank with Gauss-Seidel: 150.11813950538635 seconds\n"
     ]
    }
   ],
   "source": [
    "start_time = time.time()\n",
    "gs, list_convgs = pagerank_gs(10**-8, csr_m, D, dict_in, 0.85)\n",
    "print(\"Time of Pagerank with Gauss-Seidel:\",\n",
    "      time.time() - start_time, \"seconds\")\n",
    "mat_prgs = np.asarray(gs).ravel()\n"
   ]
  },
  {
   "cell_type": "markdown",
   "metadata": {},
   "source": [
    "### Comments"
   ]
  },
  {
   "cell_type": "markdown",
   "metadata": {},
   "source": [
    "The Power method seems to be much faster than the version with the Gauss-Seidel. The results are not the same for both methods. They differ in 121562 ranks."
   ]
  },
  {
   "cell_type": "code",
   "execution_count": 8,
   "metadata": {},
   "outputs": [
    {
     "name": "stdout",
     "output_type": "stream",
     "text": [
      "The two aforementioned methods differ in: 121652 ranks.\n"
     ]
    }
   ],
   "source": [
    "indices_pr = mat_prg.argsort()[-len(mat_prg):][::-1]\n",
    "indices_prs = mat_prgs.argsort()[-len(mat_prgs):][::-1]\n",
    "print(\"The two aforementioned methods differ in:\",\n",
    "      np.sum(indices_prs[:] != indices_pr[:]), \"ranks.\")\n"
   ]
  },
  {
   "cell_type": "markdown",
   "metadata": {},
   "source": [
    "## Question 1b"
   ]
  },
  {
   "cell_type": "code",
   "execution_count": 9,
   "metadata": {
    "scrolled": true
   },
   "outputs": [
    {
     "name": "stdout",
     "output_type": "stream",
     "text": [
      "Time of Pagerank with Google's Algorithm: 53.69683909416199 seconds\n",
      "Number of iterations: 1141\n"
     ]
    }
   ],
   "source": [
    "start_time = time.time()\n",
    "pr_99, t, list_conv99 = pagerank_galgo(csr_m, 0.99, 10**-8)\n",
    "print(\"Time of Pagerank with Google's Algorithm:\",\n",
    "      time.time() - start_time, \"seconds\")\n",
    "print (\"Number of iterations:\", t)\n",
    "mat_prg_99 = np.asarray(pr_99).ravel()\n",
    "\n"
   ]
  },
  {
   "cell_type": "code",
   "execution_count": 10,
   "metadata": {
    "scrolled": true
   },
   "outputs": [
    {
     "name": "stdout",
     "output_type": "stream",
     "text": [
      "Iteration: 1 ==> Relative Error: 0.998167825934\n",
      "Iteration: 2 ==> Relative Error: 0.471859823725\n",
      "Iteration: 3 ==> Relative Error: 0.310083212753\n",
      "Iteration: 4 ==> Relative Error: 0.235281331\n",
      "Iteration: 5 ==> Relative Error: 0.18625685865\n",
      "Iteration: 6 ==> Relative Error: 0.153530704972\n",
      "Iteration: 7 ==> Relative Error: 0.130047786617\n",
      "Iteration: 8 ==> Relative Error: 0.112523707714\n",
      "Iteration: 9 ==> Relative Error: 0.0989970283992\n",
      "Iteration: 10 ==> Relative Error: 0.0882611511428\n",
      "Iteration: 11 ==> Relative Error: 0.0795438356095\n",
      "Iteration: 12 ==> Relative Error: 0.0723243491142\n",
      "Iteration: 13 ==> Relative Error: 0.0662486802254\n",
      "Iteration: 14 ==> Relative Error: 0.0610631684006\n",
      "Iteration: 15 ==> Relative Error: 0.0565845822735\n",
      "Iteration: 16 ==> Relative Error: 0.0526761843855\n",
      "Iteration: 17 ==> Relative Error: 0.0492351293424\n",
      "Iteration: 18 ==> Relative Error: 0.04618138419\n",
      "Iteration: 19 ==> Relative Error: 0.0434529686897\n",
      "Iteration: 20 ==> Relative Error: 0.0410001447924\n",
      "Iteration: 21 ==> Relative Error: 0.038783299195\n",
      "Iteration: 22 ==> Relative Error: 0.0367697610242\n",
      "Iteration: 23 ==> Relative Error: 0.0349330882773\n",
      "Iteration: 24 ==> Relative Error: 0.0332509992612\n",
      "Iteration: 25 ==> Relative Error: 0.0317050078645\n",
      "Iteration: 26 ==> Relative Error: 0.0302793022319\n",
      "Iteration: 27 ==> Relative Error: 0.0289606303527\n",
      "Iteration: 28 ==> Relative Error: 0.0277374303979\n",
      "Iteration: 29 ==> Relative Error: 0.0265999157815\n",
      "Iteration: 30 ==> Relative Error: 0.0255394503196\n",
      "Iteration: 31 ==> Relative Error: 0.0245486277087\n",
      "Iteration: 32 ==> Relative Error: 0.0236207912053\n",
      "Iteration: 33 ==> Relative Error: 0.0227502805234\n",
      "Iteration: 34 ==> Relative Error: 0.0219319560202\n",
      "Iteration: 35 ==> Relative Error: 0.0211613380139\n",
      "Iteration: 36 ==> Relative Error: 0.0204343560668\n",
      "Iteration: 37 ==> Relative Error: 0.0197474787723\n",
      "Iteration: 38 ==> Relative Error: 0.0190974415133\n",
      "Iteration: 39 ==> Relative Error: 0.0184814071825\n",
      "Iteration: 40 ==> Relative Error: 0.0178967470655\n",
      "Iteration: 41 ==> Relative Error: 0.0173411532645\n",
      "Iteration: 42 ==> Relative Error: 0.0168124437935\n",
      "Iteration: 43 ==> Relative Error: 0.0163087549872\n",
      "Iteration: 44 ==> Relative Error: 0.0158283135837\n",
      "Iteration: 45 ==> Relative Error: 0.0153695497758\n",
      "Iteration: 46 ==> Relative Error: 0.0149309829619\n",
      "Iteration: 47 ==> Relative Error: 0.0145113224764\n",
      "Iteration: 48 ==> Relative Error: 0.0141093244086\n",
      "Iteration: 49 ==> Relative Error: 0.0137239071477\n",
      "Iteration: 50 ==> Relative Error: 0.0133540311434\n",
      "Iteration: 51 ==> Relative Error: 0.0129987813887\n",
      "Iteration: 52 ==> Relative Error: 0.0126572550262\n",
      "Iteration: 53 ==> Relative Error: 0.0123286933658\n",
      "Iteration: 54 ==> Relative Error: 0.0120123436931\n",
      "Iteration: 55 ==> Relative Error: 0.0117075392372\n",
      "Iteration: 56 ==> Relative Error: 0.0114136302009\n",
      "Iteration: 57 ==> Relative Error: 0.0111300553102\n",
      "Iteration: 58 ==> Relative Error: 0.0108562518045\n",
      "Iteration: 59 ==> Relative Error: 0.0105917359619\n",
      "Iteration: 60 ==> Relative Error: 0.0103360262514\n",
      "Iteration: 61 ==> Relative Error: 0.0100887019587\n",
      "Iteration: 62 ==> Relative Error: 0.00984932997672\n",
      "Iteration: 63 ==> Relative Error: 0.00961755584964\n",
      "Iteration: 64 ==> Relative Error: 0.0093930126905\n",
      "Iteration: 65 ==> Relative Error: 0.00917537767704\n",
      "Iteration: 66 ==> Relative Error: 0.00896432580267\n",
      "Iteration: 67 ==> Relative Error: 0.00875958079347\n",
      "Iteration: 68 ==> Relative Error: 0.00856085438462\n",
      "Iteration: 69 ==> Relative Error: 0.00836790306041\n",
      "Iteration: 70 ==> Relative Error: 0.00818047568172\n",
      "Iteration: 71 ==> Relative Error: 0.00799835553242\n",
      "Iteration: 72 ==> Relative Error: 0.00782130994456\n",
      "Iteration: 73 ==> Relative Error: 0.00764915416231\n",
      "Iteration: 74 ==> Relative Error: 0.00748168870456\n",
      "Iteration: 75 ==> Relative Error: 0.00731873987714\n",
      "Iteration: 76 ==> Relative Error: 0.00716012711203\n",
      "Iteration: 77 ==> Relative Error: 0.00700569974529\n",
      "Iteration: 78 ==> Relative Error: 0.00685529440535\n",
      "Iteration: 79 ==> Relative Error: 0.0067087756964\n",
      "Iteration: 80 ==> Relative Error: 0.00656599913714\n",
      "Iteration: 81 ==> Relative Error: 0.0064268418207\n",
      "Iteration: 82 ==> Relative Error: 0.00629116655223\n",
      "Iteration: 83 ==> Relative Error: 0.00615886748187\n",
      "Iteration: 84 ==> Relative Error: 0.00602982576449\n",
      "Iteration: 85 ==> Relative Error: 0.00590393914278\n",
      "Iteration: 86 ==> Relative Error: 0.00578109809173\n",
      "Iteration: 87 ==> Relative Error: 0.00566121285983\n",
      "Iteration: 88 ==> Relative Error: 0.00554418271295\n",
      "Iteration: 89 ==> Relative Error: 0.00542992564871\n",
      "Iteration: 90 ==> Relative Error: 0.00531835143552\n",
      "Iteration: 91 ==> Relative Error: 0.00520938438163\n",
      "Iteration: 92 ==> Relative Error: 0.00510293713701\n",
      "Iteration: 93 ==> Relative Error: 0.00499894389293\n",
      "Iteration: 94 ==> Relative Error: 0.0048973282631\n",
      "Iteration: 95 ==> Relative Error: 0.00479802528952\n",
      "Iteration: 96 ==> Relative Error: 0.00470096356045\n",
      "Iteration: 97 ==> Relative Error: 0.00460608545451\n",
      "Iteration: 98 ==> Relative Error: 0.00451332442752\n",
      "Iteration: 99 ==> Relative Error: 0.00442262711087\n",
      "Iteration: 100 ==> Relative Error: 0.00433393324757\n",
      "Iteration: 101 ==> Relative Error: 0.00424719291052\n",
      "Iteration: 102 ==> Relative Error: 0.00416234694693\n",
      "Iteration: 103 ==> Relative Error: 0.00407935154888\n",
      "Iteration: 104 ==> Relative Error: 0.00399815452409\n",
      "Iteration: 105 ==> Relative Error: 0.00391871196026\n",
      "Iteration: 106 ==> Relative Error: 0.00384097452714\n",
      "Iteration: 107 ==> Relative Error: 0.00376490289835\n",
      "Iteration: 108 ==> Relative Error: 0.00369045064229\n",
      "Iteration: 109 ==> Relative Error: 0.00361758094147\n",
      "Iteration: 110 ==> Relative Error: 0.00354625136375\n",
      "Iteration: 111 ==> Relative Error: 0.00347642711007\n",
      "Iteration: 112 ==> Relative Error: 0.0034080661386\n",
      "Iteration: 113 ==> Relative Error: 0.003341137644\n",
      "Iteration: 114 ==> Relative Error: 0.0032756042159\n",
      "Iteration: 115 ==> Relative Error: 0.00321143467302\n",
      "Iteration: 116 ==> Relative Error: 0.00314859337087\n",
      "Iteration: 117 ==> Relative Error: 0.00308705214505\n",
      "Iteration: 118 ==> Relative Error: 0.00302677719317\n",
      "Iteration: 119 ==> Relative Error: 0.00296774193123\n",
      "Iteration: 120 ==> Relative Error: 0.00290991522898\n",
      "Iteration: 121 ==> Relative Error: 0.00285327176966\n",
      "Iteration: 122 ==> Relative Error: 0.00279778053956\n",
      "Iteration: 123 ==> Relative Error: 0.00274341893836\n",
      "Iteration: 124 ==> Relative Error: 0.00269015914785\n",
      "Iteration: 125 ==> Relative Error: 0.00263797817358\n",
      "Iteration: 126 ==> Relative Error: 0.00258684935803\n",
      "Iteration: 127 ==> Relative Error: 0.00253675177377\n",
      "Iteration: 128 ==> Relative Error: 0.00248766000195\n",
      "Iteration: 129 ==> Relative Error: 0.00243955416974\n",
      "Iteration: 130 ==> Relative Error: 0.002392410715\n",
      "Iteration: 131 ==> Relative Error: 0.00234621061093\n",
      "Iteration: 132 ==> Relative Error: 0.00230093032009\n",
      "Iteration: 133 ==> Relative Error: 0.00225655272405\n",
      "Iteration: 134 ==> Relative Error: 0.00221305655307\n",
      "Iteration: 135 ==> Relative Error: 0.00217042435939\n",
      "Iteration: 136 ==> Relative Error: 0.00212863567941\n",
      "Iteration: 137 ==> Relative Error: 0.00208767452791\n",
      "Iteration: 138 ==> Relative Error: 0.00204752131469\n",
      "Iteration: 139 ==> Relative Error: 0.00200816079354\n",
      "Iteration: 140 ==> Relative Error: 0.00196957470535\n",
      "Iteration: 141 ==> Relative Error: 0.00193174839947\n",
      "Iteration: 142 ==> Relative Error: 0.00189466362214\n",
      "Iteration: 143 ==> Relative Error: 0.00185830709789\n",
      "Iteration: 144 ==> Relative Error: 0.00182266221836\n",
      "Iteration: 145 ==> Relative Error: 0.00178771546019\n",
      "Iteration: 146 ==> Relative Error: 0.00175345080125\n",
      "Iteration: 147 ==> Relative Error: 0.00171985577979\n",
      "Iteration: 148 ==> Relative Error: 0.00168691501391\n",
      "Iteration: 149 ==> Relative Error: 0.00165461658095\n",
      "Iteration: 150 ==> Relative Error: 0.00162294607738\n",
      "Iteration: 151 ==> Relative Error: 0.00159189201847\n",
      "Iteration: 152 ==> Relative Error: 0.00156144001271\n",
      "Iteration: 153 ==> Relative Error: 0.00153157958646\n",
      "Iteration: 154 ==> Relative Error: 0.00150229756352\n",
      "Iteration: 155 ==> Relative Error: 0.00147358329644\n",
      "Iteration: 156 ==> Relative Error: 0.00144542405132\n",
      "Iteration: 157 ==> Relative Error: 0.00141780996721\n",
      "Iteration: 158 ==> Relative Error: 0.00139072879432\n",
      "Iteration: 159 ==> Relative Error: 0.00136417107767\n",
      "Iteration: 160 ==> Relative Error: 0.00133812530127\n",
      "Iteration: 161 ==> Relative Error: 0.00131258234342\n",
      "Iteration: 162 ==> Relative Error: 0.00128753071333\n"
     ]
    },
    {
     "name": "stdout",
     "output_type": "stream",
     "text": [
      "Iteration: 163 ==> Relative Error: 0.00126296204487\n",
      "Iteration: 164 ==> Relative Error: 0.00123886575804\n",
      "Iteration: 165 ==> Relative Error: 0.00121523337261\n",
      "Iteration: 166 ==> Relative Error: 0.00119205465204\n",
      "Iteration: 167 ==> Relative Error: 0.00116932170847\n",
      "Iteration: 168 ==> Relative Error: 0.00114702468041\n",
      "Iteration: 169 ==> Relative Error: 0.00112515599344\n",
      "Iteration: 170 ==> Relative Error: 0.00110370634552\n",
      "Iteration: 171 ==> Relative Error: 0.0010826684226\n",
      "Iteration: 172 ==> Relative Error: 0.00106203296\n",
      "Iteration: 173 ==> Relative Error: 0.00104179321583\n",
      "Iteration: 174 ==> Relative Error: 0.00102194061633\n",
      "Iteration: 175 ==> Relative Error: 0.0010024683506\n",
      "Iteration: 176 ==> Relative Error: 0.000983368117492\n",
      "Iteration: 177 ==> Relative Error: 0.000964633558307\n",
      "Iteration: 178 ==> Relative Error: 0.000946256667973\n",
      "Iteration: 179 ==> Relative Error: 0.000928231334404\n",
      "Iteration: 180 ==> Relative Error: 0.000910549984841\n",
      "Iteration: 181 ==> Relative Error: 0.000893206714617\n",
      "Iteration: 182 ==> Relative Error: 0.000876193997083\n",
      "Iteration: 183 ==> Relative Error: 0.000859506365571\n",
      "Iteration: 184 ==> Relative Error: 0.000843136822978\n",
      "Iteration: 185 ==> Relative Error: 0.000827079866245\n",
      "Iteration: 186 ==> Relative Error: 0.000811328718207\n",
      "Iteration: 187 ==> Relative Error: 0.00079587822479\n",
      "Iteration: 188 ==> Relative Error: 0.00078072184598\n",
      "Iteration: 189 ==> Relative Error: 0.000765854624515\n",
      "Iteration: 190 ==> Relative Error: 0.000751270358204\n",
      "Iteration: 191 ==> Relative Error: 0.000736964257351\n",
      "Iteration: 192 ==> Relative Error: 0.000722930170941\n",
      "Iteration: 193 ==> Relative Error: 0.000709163647641\n",
      "Iteration: 194 ==> Relative Error: 0.000695658945918\n",
      "Iteration: 195 ==> Relative Error: 0.000682411600712\n",
      "Iteration: 196 ==> Relative Error: 0.000669416050059\n",
      "Iteration: 197 ==> Relative Error: 0.000656668100695\n",
      "Iteration: 198 ==> Relative Error: 0.00064416238271\n",
      "Iteration: 199 ==> Relative Error: 0.000631894861561\n",
      "Iteration: 200 ==> Relative Error: 0.000619860433799\n",
      "Iteration: 201 ==> Relative Error: 0.000608055201592\n",
      "Iteration: 202 ==> Relative Error: 0.000596474114596\n",
      "Iteration: 203 ==> Relative Error: 0.000585113538364\n",
      "Iteration: 204 ==> Relative Error: 0.000573968741646\n",
      "Iteration: 205 ==> Relative Error: 0.000563036091383\n",
      "Iteration: 206 ==> Relative Error: 0.000552311004208\n",
      "Iteration: 207 ==> Relative Error: 0.000541790060336\n",
      "Iteration: 208 ==> Relative Error: 0.000531468833237\n",
      "Iteration: 209 ==> Relative Error: 0.000521344032104\n",
      "Iteration: 210 ==> Relative Error: 0.000511411442236\n",
      "Iteration: 211 ==> Relative Error: 0.000501667885117\n",
      "Iteration: 212 ==> Relative Error: 0.000492109198682\n",
      "Iteration: 213 ==> Relative Error: 0.000482732410751\n",
      "Iteration: 214 ==> Relative Error: 0.000473533609609\n",
      "Iteration: 215 ==> Relative Error: 0.000464509834021\n",
      "Iteration: 216 ==> Relative Error: 0.000455657294818\n",
      "Iteration: 217 ==> Relative Error: 0.000446973199157\n",
      "Iteration: 218 ==> Relative Error: 0.000438453886755\n",
      "Iteration: 219 ==> Relative Error: 0.000430096670144\n",
      "Iteration: 220 ==> Relative Error: 0.000421898058556\n",
      "Iteration: 221 ==> Relative Error: 0.000413855457167\n",
      "Iteration: 222 ==> Relative Error: 0.000405965425689\n",
      "Iteration: 223 ==> Relative Error: 0.000398225531811\n",
      "Iteration: 224 ==> Relative Error: 0.000390632532852\n",
      "Iteration: 225 ==> Relative Error: 0.00038318401301\n",
      "Iteration: 226 ==> Relative Error: 0.000375876831599\n",
      "Iteration: 227 ==> Relative Error: 0.000368708706458\n",
      "Iteration: 228 ==> Relative Error: 0.000361676603316\n",
      "Iteration: 229 ==> Relative Error: 0.000354778326416\n",
      "Iteration: 230 ==> Relative Error: 0.000348010977909\n",
      "Iteration: 231 ==> Relative Error: 0.000341372438676\n",
      "Iteration: 232 ==> Relative Error: 0.00033485985811\n",
      "Iteration: 233 ==> Relative Error: 0.000328471245668\n",
      "Iteration: 234 ==> Relative Error: 0.000322203907552\n",
      "Iteration: 235 ==> Relative Error: 0.000316055872515\n",
      "Iteration: 236 ==> Relative Error: 0.000310024531907\n",
      "Iteration: 237 ==> Relative Error: 0.000304108020983\n",
      "Iteration: 238 ==> Relative Error: 0.000298303819266\n",
      "Iteration: 239 ==> Relative Error: 0.00029261013303\n",
      "Iteration: 240 ==> Relative Error: 0.000287024552111\n",
      "Iteration: 241 ==> Relative Error: 0.000281545346272\n",
      "Iteration: 242 ==> Relative Error: 0.000276170148735\n",
      "Iteration: 243 ==> Relative Error: 0.00027089733137\n",
      "Iteration: 244 ==> Relative Error: 0.000265724652436\n",
      "Iteration: 245 ==> Relative Error: 0.000260650503994\n",
      "Iteration: 246 ==> Relative Error: 0.000255672715534\n",
      "Iteration: 247 ==> Relative Error: 0.000250789764277\n",
      "Iteration: 248 ==> Relative Error: 0.000245999552967\n",
      "Iteration: 249 ==> Relative Error: 0.000241300617274\n",
      "Iteration: 250 ==> Relative Error: 0.000236690949509\n",
      "Iteration: 251 ==> Relative Error: 0.000232169137963\n",
      "Iteration: 252 ==> Relative Error: 0.000227733214209\n",
      "Iteration: 253 ==> Relative Error: 0.000223381847875\n",
      "Iteration: 254 ==> Relative Error: 0.000219113170668\n",
      "Iteration: 255 ==> Relative Error: 0.000214925872069\n",
      "Iteration: 256 ==> Relative Error: 0.000210818143455\n",
      "Iteration: 257 ==> Relative Error: 0.000206788742588\n",
      "Iteration: 258 ==> Relative Error: 0.000202835921818\n",
      "Iteration: 259 ==> Relative Error: 0.000198958487042\n",
      "Iteration: 260 ==> Relative Error: 0.00019515476359\n",
      "Iteration: 261 ==> Relative Error: 0.000191423600957\n",
      "Iteration: 262 ==> Relative Error: 0.000187763359591\n",
      "Iteration: 263 ==> Relative Error: 0.000184172953941\n",
      "Iteration: 264 ==> Relative Error: 0.000180650824956\n",
      "Iteration: 265 ==> Relative Error: 0.000177195905841\n",
      "Iteration: 266 ==> Relative Error: 0.000173806687575\n",
      "Iteration: 267 ==> Relative Error: 0.00017048215822\n",
      "Iteration: 268 ==> Relative Error: 0.000167220859583\n",
      "Iteration: 269 ==> Relative Error: 0.000164021819367\n",
      "Iteration: 270 ==> Relative Error: 0.000160883639022\n",
      "Iteration: 271 ==> Relative Error: 0.000157805382351\n",
      "Iteration: 272 ==> Relative Error: 0.000154785681911\n",
      "Iteration: 273 ==> Relative Error: 0.000151823653478\n",
      "Iteration: 274 ==> Relative Error: 0.000148917994563\n",
      "Iteration: 275 ==> Relative Error: 0.000146067838162\n",
      "Iteration: 276 ==> Relative Error: 0.000143271923755\n",
      "Iteration: 277 ==> Relative Error: 0.000140529428484\n",
      "Iteration: 278 ==> Relative Error: 0.000137839134245\n",
      "Iteration: 279 ==> Relative Error: 0.000135200250807\n",
      "Iteration: 280 ==> Relative Error: 0.000132611608942\n",
      "Iteration: 281 ==> Relative Error: 0.000130072448274\n",
      "Iteration: 282 ==> Relative Error: 0.000127581626914\n",
      "Iteration: 283 ==> Relative Error: 0.000125138426137\n",
      "Iteration: 284 ==> Relative Error: 0.000122741756632\n",
      "Iteration: 285 ==> Relative Error: 0.000120390915158\n",
      "Iteration: 286 ==> Relative Error: 0.000118084847622\n",
      "Iteration: 287 ==> Relative Error: 0.000115822886344\n",
      "Iteration: 288 ==> Relative Error: 0.000113604012659\n",
      "Iteration: 289 ==> Relative Error: 0.000111427585721\n",
      "Iteration: 290 ==> Relative Error: 0.000109292627008\n",
      "Iteration: 291 ==> Relative Error: 0.000107198520329\n",
      "Iteration: 292 ==> Relative Error: 0.000105144311036\n",
      "Iteration: 293 ==> Relative Error: 0.000103129416353\n",
      "Iteration: 294 ==> Relative Error: 0.000101152924318\n",
      "Iteration: 295 ==> Relative Error: 9.9214265851e-05\n",
      "Iteration: 296 ==> Relative Error: 9.73125585499e-05\n",
      "Iteration: 297 ==> Relative Error: 9.54472620006e-05\n",
      "Iteration: 298 ==> Relative Error: 9.36175234125e-05\n",
      "Iteration: 299 ==> Relative Error: 9.18228244107e-05\n",
      "Iteration: 300 ==> Relative Error: 9.0062345248e-05\n",
      "Iteration: 301 ==> Relative Error: 8.83355878758e-05\n",
      "Iteration: 302 ==> Relative Error: 8.66417532795e-05\n",
      "Iteration: 303 ==> Relative Error: 8.49803702384e-05\n",
      "Iteration: 304 ==> Relative Error: 8.33506744919e-05\n",
      "Iteration: 305 ==> Relative Error: 8.17522067721e-05\n",
      "Iteration: 306 ==> Relative Error: 8.01842276324e-05\n",
      "Iteration: 307 ==> Relative Error: 7.864630092e-05\n",
      "Iteration: 308 ==> Relative Error: 7.713771195e-05\n",
      "Iteration: 309 ==> Relative Error: 7.56580426467e-05\n",
      "Iteration: 310 ==> Relative Error: 7.42066055761e-05\n",
      "Iteration: 311 ==> Relative Error: 7.27829993882e-05\n",
      "Iteration: 312 ==> Relative Error: 7.13865545733e-05\n",
      "Iteration: 313 ==> Relative Error: 7.00168913271e-05\n",
      "Iteration: 314 ==> Relative Error: 6.86733685097e-05\n",
      "Iteration: 315 ==> Relative Error: 6.73556166341e-05\n",
      "Iteration: 316 ==> Relative Error: 6.60630153931e-05\n",
      "Iteration: 317 ==> Relative Error: 6.47952139373e-05\n",
      "Iteration: 318 ==> Relative Error: 6.35516126763e-05\n"
     ]
    },
    {
     "name": "stdout",
     "output_type": "stream",
     "text": [
      "Iteration: 319 ==> Relative Error: 6.23318755635e-05\n",
      "Iteration: 320 ==> Relative Error: 6.11354255213e-05\n",
      "Iteration: 321 ==> Relative Error: 5.99619402361e-05\n",
      "Iteration: 322 ==> Relative Error: 5.88108580702e-05\n",
      "Iteration: 323 ==> Relative Error: 5.76818740143e-05\n",
      "Iteration: 324 ==> Relative Error: 5.65744496444e-05\n",
      "Iteration: 325 ==> Relative Error: 5.54882887743e-05\n",
      "Iteration: 326 ==> Relative Error: 5.44228704718e-05\n",
      "Iteration: 327 ==> Relative Error: 5.33779135708e-05\n",
      "Iteration: 328 ==> Relative Error: 5.23529144817e-05\n",
      "Iteration: 329 ==> Relative Error: 5.13476041372e-05\n",
      "Iteration: 330 ==> Relative Error: 5.03614975756e-05\n",
      "Iteration: 331 ==> Relative Error: 4.93943369809e-05\n",
      "Iteration: 332 ==> Relative Error: 4.84456506497e-05\n",
      "Iteration: 333 ==> Relative Error: 4.75151946587e-05\n",
      "Iteration: 334 ==> Relative Error: 4.6602516345e-05\n",
      "Iteration: 335 ==> Relative Error: 4.57073792658e-05\n",
      "Iteration: 336 ==> Relative Error: 4.48293454479e-05\n",
      "Iteration: 337 ==> Relative Error: 4.39681905467e-05\n",
      "Iteration: 338 ==> Relative Error: 4.31234911126e-05\n",
      "Iteration: 339 ==> Relative Error: 4.2295032668e-05\n",
      "Iteration: 340 ==> Relative Error: 4.1482407202e-05\n",
      "Iteration: 341 ==> Relative Error: 4.06854094325e-05\n",
      "Iteration: 342 ==> Relative Error: 3.99036427035e-05\n",
      "Iteration: 343 ==> Relative Error: 3.91369128801e-05\n",
      "Iteration: 344 ==> Relative Error: 3.83848389581e-05\n",
      "Iteration: 345 ==> Relative Error: 3.76472330988e-05\n",
      "Iteration: 346 ==> Relative Error: 3.69237266371e-05\n",
      "Iteration: 347 ==> Relative Error: 3.62141414668e-05\n",
      "Iteration: 348 ==> Relative Error: 3.55181210941e-05\n",
      "Iteration: 349 ==> Relative Error: 3.48354954408e-05\n",
      "Iteration: 350 ==> Relative Error: 3.41659208275e-05\n",
      "Iteration: 351 ==> Relative Error: 3.3509234671e-05\n",
      "Iteration: 352 ==> Relative Error: 3.28651029978e-05\n",
      "Iteration: 353 ==> Relative Error: 3.22333721584e-05\n",
      "Iteration: 354 ==> Relative Error: 3.16137210737e-05\n",
      "Iteration: 355 ==> Relative Error: 3.10060013586e-05\n",
      "Iteration: 356 ==> Relative Error: 3.04099023e-05\n",
      "Iteration: 357 ==> Relative Error: 2.98252833329e-05\n",
      "Iteration: 358 ==> Relative Error: 2.92518439493e-05\n",
      "Iteration: 359 ==> Relative Error: 2.86894500986e-05\n",
      "Iteration: 360 ==> Relative Error: 2.81378119254e-05\n",
      "Iteration: 361 ==> Relative Error: 2.75968014708e-05\n",
      "Iteration: 362 ==> Relative Error: 2.70661371606e-05\n",
      "Iteration: 363 ==> Relative Error: 2.65456981877e-05\n",
      "Iteration: 364 ==> Relative Error: 2.60352136223e-05\n",
      "Iteration: 365 ==> Relative Error: 2.55345670286e-05\n",
      "Iteration: 366 ==> Relative Error: 2.50434961922e-05\n",
      "Iteration: 367 ==> Relative Error: 2.45618909479e-05\n",
      "Iteration: 368 ==> Relative Error: 2.40894976423e-05\n",
      "Iteration: 369 ==> Relative Error: 2.36262113832e-05\n",
      "Iteration: 370 ==> Relative Error: 2.31717873854e-05\n",
      "Iteration: 371 ==> Relative Error: 2.27261256912e-05\n",
      "Iteration: 372 ==> Relative Error: 2.22889885729e-05\n",
      "Iteration: 373 ==> Relative Error: 2.18602817875e-05\n",
      "Iteration: 374 ==> Relative Error: 2.1439776413e-05\n",
      "Iteration: 375 ==> Relative Error: 2.10273818144e-05\n",
      "Iteration: 376 ==> Relative Error: 2.0622876398e-05\n",
      "Iteration: 377 ==> Relative Error: 2.02261745477e-05\n",
      "Iteration: 378 ==> Relative Error: 1.98370618587e-05\n",
      "Iteration: 379 ==> Relative Error: 1.9455456967e-05\n",
      "Iteration: 380 ==> Relative Error: 1.90811528613e-05\n",
      "Iteration: 381 ==> Relative Error: 1.87140721622e-05\n",
      "Iteration: 382 ==> Relative Error: 1.8354013867e-05\n",
      "Iteration: 383 ==> Relative Error: 1.80009051526e-05\n",
      "Iteration: 384 ==> Relative Error: 1.76545523158e-05\n",
      "Iteration: 385 ==> Relative Error: 1.73148854916e-05\n",
      "Iteration: 386 ==> Relative Error: 1.69817171445e-05\n",
      "Iteration: 387 ==> Relative Error: 1.66549814163e-05\n",
      "Iteration: 388 ==> Relative Error: 1.63344968109e-05\n",
      "Iteration: 389 ==> Relative Error: 1.60202008882e-05\n",
      "Iteration: 390 ==> Relative Error: 1.57119183259e-05\n",
      "Iteration: 391 ==> Relative Error: 1.54095898884e-05\n",
      "Iteration: 392 ==> Relative Error: 1.51130453648e-05\n",
      "Iteration: 393 ==> Relative Error: 1.48222291432e-05\n",
      "Iteration: 394 ==> Relative Error: 1.45369770756e-05\n",
      "Iteration: 395 ==> Relative Error: 1.42572359616e-05\n",
      "Iteration: 396 ==> Relative Error: 1.39828468465e-05\n",
      "Iteration: 397 ==> Relative Error: 1.37137597178e-05\n",
      "Iteration: 398 ==> Relative Error: 1.3449820701e-05\n",
      "Iteration: 399 ==> Relative Error: 1.31909825195e-05\n",
      "Iteration: 400 ==> Relative Error: 1.29370964612e-05\n",
      "Iteration: 401 ==> Relative Error: 1.26881178157e-05\n",
      "Iteration: 402 ==> Relative Error: 1.24439022188e-05\n",
      "Iteration: 403 ==> Relative Error: 1.22044078316e-05\n",
      "Iteration: 404 ==> Relative Error: 1.19694953361e-05\n",
      "Iteration: 405 ==> Relative Error: 1.17391248463e-05\n",
      "Iteration: 406 ==> Relative Error: 1.15131614201e-05\n",
      "Iteration: 407 ==> Relative Error: 1.12915677003e-05\n",
      "Iteration: 408 ==> Relative Error: 1.10742130207e-05\n",
      "Iteration: 409 ==> Relative Error: 1.08610622037e-05\n",
      "Iteration: 410 ==> Relative Error: 1.06519889076e-05\n",
      "Iteration: 411 ==> Relative Error: 1.04469599993e-05\n",
      "Iteration: 412 ==> Relative Error: 1.02458528342e-05\n",
      "Iteration: 413 ==> Relative Error: 1.00486365471e-05\n",
      "Iteration: 414 ==> Relative Error: 9.85519270161e-06\n",
      "Iteration: 415 ==> Relative Error: 9.66549200168e-06\n",
      "Iteration: 416 ==> Relative Error: 9.47941970308e-06\n",
      "Iteration: 417 ==> Relative Error: 9.29694850602e-06\n",
      "Iteration: 418 ==> Relative Error: 9.11796726928e-06\n",
      "Iteration: 419 ==> Relative Error: 8.94245042036e-06\n",
      "Iteration: 420 ==> Relative Error: 8.77029044634e-06\n",
      "Iteration: 421 ==> Relative Error: 8.60146339524e-06\n",
      "Iteration: 422 ==> Relative Error: 8.43586489676e-06\n",
      "Iteration: 423 ==> Relative Error: 8.27347278169e-06\n",
      "Iteration: 424 ==> Relative Error: 8.11418619705e-06\n",
      "Iteration: 425 ==> Relative Error: 7.95798422495e-06\n",
      "Iteration: 426 ==> Relative Error: 7.80476913031e-06\n",
      "Iteration: 427 ==> Relative Error: 7.65452156206e-06\n",
      "Iteration: 428 ==> Relative Error: 7.50714682553e-06\n",
      "Iteration: 429 ==> Relative Error: 7.36262693125e-06\n",
      "Iteration: 430 ==> Relative Error: 7.22087023184e-06\n",
      "Iteration: 431 ==> Relative Error: 7.08186001298e-06\n",
      "Iteration: 432 ==> Relative Error: 6.94550730137e-06\n",
      "Iteration: 433 ==> Relative Error: 6.81179677632e-06\n",
      "Iteration: 434 ==> Relative Error: 6.68064240963e-06\n",
      "Iteration: 435 ==> Relative Error: 6.55202986975e-06\n",
      "Iteration: 436 ==> Relative Error: 6.42587576396e-06\n",
      "Iteration: 437 ==> Relative Error: 6.30216698402e-06\n",
      "Iteration: 438 ==> Relative Error: 6.18082270546e-06\n",
      "Iteration: 439 ==> Relative Error: 6.06183088386e-06\n",
      "Iteration: 440 ==> Relative Error: 5.94511326038e-06\n",
      "Iteration: 441 ==> Relative Error: 5.83065878626e-06\n",
      "Iteration: 442 ==> Relative Error: 5.71839147816e-06\n",
      "Iteration: 443 ==> Relative Error: 5.60830136973e-06\n",
      "Iteration: 444 ==> Relative Error: 5.50031494783e-06\n",
      "Iteration: 445 ==> Relative Error: 5.39442302087e-06\n",
      "Iteration: 446 ==> Relative Error: 5.29055430705e-06\n",
      "Iteration: 447 ==> Relative Error: 5.18870056071e-06\n",
      "Iteration: 448 ==> Relative Error: 5.08879267303e-06\n",
      "Iteration: 449 ==> Relative Error: 4.9908232233e-06\n",
      "Iteration: 450 ==> Relative Error: 4.8947252648e-06\n",
      "Iteration: 451 ==> Relative Error: 4.80049214764e-06\n",
      "Iteration: 452 ==> Relative Error: 4.7080588633e-06\n",
      "Iteration: 453 ==> Relative Error: 4.61741959419e-06\n",
      "Iteration: 454 ==> Relative Error: 4.52851140916e-06\n",
      "Iteration: 455 ==> Relative Error: 4.44132908958e-06\n",
      "Iteration: 456 ==> Relative Error: 4.35581159577e-06\n",
      "Iteration: 457 ==> Relative Error: 4.27195443486e-06\n",
      "Iteration: 458 ==> Relative Error: 4.18969840703e-06\n",
      "Iteration: 459 ==> Relative Error: 4.10903965145e-06\n",
      "Iteration: 460 ==> Relative Error: 4.02992079529e-06\n",
      "Iteration: 461 ==> Relative Error: 3.95233856758e-06\n",
      "Iteration: 462 ==> Relative Error: 3.87623724596e-06\n",
      "Iteration: 463 ==> Relative Error: 3.80161419343e-06\n",
      "Iteration: 464 ==> Relative Error: 3.72841543948e-06\n",
      "Iteration: 465 ==> Relative Error: 3.65663880288e-06\n",
      "Iteration: 466 ==> Relative Error: 3.58623191728e-06\n",
      "Iteration: 467 ==> Relative Error: 3.51719315223e-06\n",
      "Iteration: 468 ==> Relative Error: 3.44947170215e-06\n",
      "Iteration: 469 ==> Relative Error: 3.38306641466e-06\n",
      "Iteration: 470 ==> Relative Error: 3.31792802998e-06\n",
      "Iteration: 471 ==> Relative Error: 3.25405583938e-06\n",
      "Iteration: 472 ==> Relative Error: 3.19140199209e-06\n",
      "Iteration: 473 ==> Relative Error: 3.12996625561e-06\n"
     ]
    },
    {
     "name": "stdout",
     "output_type": "stream",
     "text": [
      "Iteration: 474 ==> Relative Error: 3.06970225769e-06\n",
      "Iteration: 475 ==> Relative Error: 3.01061010689e-06\n",
      "Iteration: 476 ==> Relative Error: 2.95264479487e-06\n",
      "Iteration: 477 ==> Relative Error: 2.89580684075e-06\n",
      "Iteration: 478 ==> Relative Error: 2.84005256241e-06\n",
      "Iteration: 479 ==> Relative Error: 2.785382834e-06\n",
      "Iteration: 480 ==> Relative Error: 2.73175528347e-06\n",
      "Iteration: 481 ==> Relative Error: 2.67917111355e-06\n",
      "Iteration: 482 ==> Relative Error: 2.62758915489e-06\n",
      "Iteration: 483 ==> Relative Error: 2.57701096157e-06\n",
      "Iteration: 484 ==> Relative Error: 2.52739661605e-06\n",
      "Iteration: 485 ==> Relative Error: 2.47874792093e-06\n",
      "Iteration: 486 ==> Relative Error: 2.43102611913e-06\n",
      "Iteration: 487 ==> Relative Error: 2.38423331363e-06\n",
      "Iteration: 488 ==> Relative Error: 2.33833187595e-06\n",
      "Iteration: 489 ==> Relative Error: 2.29332416685e-06\n",
      "Iteration: 490 ==> Relative Error: 2.24917367039e-06\n",
      "Iteration: 491 ==> Relative Error: 2.20588298357e-06\n",
      "Iteration: 492 ==> Relative Error: 2.16341661947e-06\n",
      "Iteration: 493 ==> Relative Error: 2.12177742765e-06\n",
      "Iteration: 494 ==> Relative Error: 2.08093098224e-06\n",
      "Iteration: 495 ==> Relative Error: 2.04088030848e-06\n",
      "Iteration: 496 ==> Relative Error: 2.00159197059e-06\n",
      "Iteration: 497 ==> Relative Error: 1.96306920585e-06\n",
      "Iteration: 498 ==> Relative Error: 1.92527954125e-06\n",
      "Iteration: 499 ==> Relative Error: 1.88822639491e-06\n",
      "Iteration: 500 ==> Relative Error: 1.85187823981e-06\n",
      "Iteration: 501 ==> Relative Error: 1.8162386587e-06\n",
      "Iteration: 502 ==> Relative Error: 1.78127700508e-06\n",
      "Iteration: 503 ==> Relative Error: 1.7469970378e-06\n",
      "Iteration: 504 ==> Relative Error: 1.71336901179e-06\n",
      "Iteration: 505 ==> Relative Error: 1.68039680317e-06\n",
      "Iteration: 506 ==> Relative Error: 1.64805151228e-06\n",
      "Iteration: 507 ==> Relative Error: 1.61633716053e-06\n",
      "Iteration: 508 ==> Relative Error: 1.58522566935e-06\n",
      "Iteration: 509 ==> Relative Error: 1.55472117998e-06\n",
      "Iteration: 510 ==> Relative Error: 1.5247964223e-06\n",
      "Iteration: 511 ==> Relative Error: 1.49545564414e-06\n",
      "Iteration: 512 ==> Relative Error: 1.46667233028e-06\n",
      "Iteration: 513 ==> Relative Error: 1.4384508452e-06\n",
      "Iteration: 514 ==> Relative Error: 1.4107654412e-06\n",
      "Iteration: 515 ==> Relative Error: 1.3836205543e-06\n",
      "Iteration: 516 ==> Relative Error: 1.35699116013e-06\n",
      "Iteration: 517 ==> Relative Error: 1.33088178694e-06\n",
      "Iteration: 518 ==> Relative Error: 1.30526811315e-06\n",
      "Iteration: 519 ==> Relative Error: 1.28015473998e-06\n",
      "Iteration: 520 ==> Relative Error: 1.25551803603e-06\n",
      "Iteration: 521 ==> Relative Error: 1.23136266624e-06\n",
      "Iteration: 522 ==> Relative Error: 1.20766564635e-06\n",
      "Iteration: 523 ==> Relative Error: 1.18443171138e-06\n",
      "Iteration: 524 ==> Relative Error: 1.1616385333e-06\n",
      "Iteration: 525 ==> Relative Error: 1.13929088257e-06\n",
      "Iteration: 526 ==> Relative Error: 1.1173670512e-06\n",
      "Iteration: 527 ==> Relative Error: 1.09587186134e-06\n",
      "Iteration: 528 ==> Relative Error: 1.07478420708e-06\n",
      "Iteration: 529 ==> Relative Error: 1.05410894813e-06\n",
      "Iteration: 530 ==> Relative Error: 1.03382556884e-06\n",
      "Iteration: 531 ==> Relative Error: 1.0139389581e-06\n",
      "Iteration: 532 ==> Relative Error: 9.94429158015e-07\n",
      "Iteration: 533 ==> Relative Error: 9.75301092267e-07\n",
      "Iteration: 534 ==> Relative Error: 9.56535362921e-07\n",
      "Iteration: 535 ==> Relative Error: 9.38136903203e-07\n",
      "Iteration: 536 ==> Relative Error: 9.20086847533e-07\n",
      "Iteration: 537 ==> Relative Error: 9.02390148854e-07\n",
      "Iteration: 538 ==> Relative Error: 8.85028459463e-07\n",
      "Iteration: 539 ==> Relative Error: 8.68006742517e-07\n",
      "Iteration: 540 ==> Relative Error: 8.51307156237e-07\n",
      "Iteration: 541 ==> Relative Error: 8.34934667478e-07\n",
      "Iteration: 542 ==> Relative Error: 8.18871914699e-07\n",
      "Iteration: 543 ==> Relative Error: 8.03123873069e-07\n",
      "Iteration: 544 ==> Relative Error: 7.87673661323e-07\n",
      "Iteration: 545 ==> Relative Error: 7.72526242671e-07\n",
      "Iteration: 546 ==> Relative Error: 7.576651944e-07\n",
      "Iteration: 547 ==> Relative Error: 7.43095477234e-07\n",
      "Iteration: 548 ==> Relative Error: 7.2880111272e-07\n",
      "Iteration: 549 ==> Relative Error: 7.14787051385e-07\n",
      "Iteration: 550 ==> Relative Error: 7.01037749903e-07\n",
      "Iteration: 551 ==> Relative Error: 6.87558143753e-07\n",
      "Iteration: 552 ==> Relative Error: 6.74333103593e-07\n",
      "Iteration: 553 ==> Relative Error: 6.61367552786e-07\n",
      "Iteration: 554 ==> Relative Error: 6.4864677518e-07\n",
      "Iteration: 555 ==> Relative Error: 6.36175667875e-07\n",
      "Iteration: 556 ==> Relative Error: 6.2393990905e-07\n",
      "Iteration: 557 ==> Relative Error: 6.11944375996e-07\n",
      "Iteration: 558 ==> Relative Error: 6.0017513029e-07\n",
      "Iteration: 559 ==> Relative Error: 5.88637023632e-07\n",
      "Iteration: 560 ==> Relative Error: 5.7731649253e-07\n",
      "Iteration: 561 ==> Relative Error: 5.66218360033e-07\n",
      "Iteration: 562 ==> Relative Error: 5.55329419848e-07\n",
      "Iteration: 563 ==> Relative Error: 5.44654468882e-07\n",
      "Iteration: 564 ==> Relative Error: 5.34180656527e-07\n",
      "Iteration: 565 ==> Relative Error: 5.23912742361e-07\n",
      "Iteration: 566 ==> Relative Error: 5.1383821665e-07\n",
      "Iteration: 567 ==> Relative Error: 5.03961806658e-07\n",
      "Iteration: 568 ==> Relative Error: 4.94271333733e-07\n",
      "Iteration: 569 ==> Relative Error: 4.84771489006e-07\n",
      "Iteration: 570 ==> Relative Error: 4.75450417431e-07\n",
      "Iteration: 571 ==> Relative Error: 4.66312771258e-07\n",
      "Iteration: 572 ==> Relative Error: 4.57347005164e-07\n",
      "Iteration: 573 ==> Relative Error: 4.48557734834e-07\n",
      "Iteration: 574 ==> Relative Error: 4.39933721404e-07\n",
      "Iteration: 575 ==> Relative Error: 4.31479536599e-07\n",
      "Iteration: 576 ==> Relative Error: 4.23184235788e-07\n",
      "Iteration: 577 ==> Relative Error: 4.15052350418e-07\n",
      "Iteration: 578 ==> Relative Error: 4.07073222285e-07\n",
      "Iteration: 579 ==> Relative Error: 3.99251339193e-07\n",
      "Iteration: 580 ==> Relative Error: 3.91576322472e-07\n",
      "Iteration: 581 ==> Relative Error: 3.84052615157e-07\n",
      "Iteration: 582 ==> Relative Error: 3.76670106804e-07\n",
      "Iteration: 583 ==> Relative Error: 3.69433196706e-07\n",
      "Iteration: 584 ==> Relative Error: 3.62332039943e-07\n",
      "Iteration: 585 ==> Relative Error: 3.55370986981e-07\n",
      "Iteration: 586 ==> Relative Error: 3.48540447898e-07\n",
      "Iteration: 587 ==> Relative Error: 3.41844727082e-07\n",
      "Iteration: 588 ==> Relative Error: 3.35274482438e-07\n",
      "Iteration: 589 ==> Relative Error: 3.28833970857e-07\n",
      "Iteration: 590 ==> Relative Error: 3.22514092495e-07\n",
      "Iteration: 591 ==> Relative Error: 3.16319054985e-07\n",
      "Iteration: 592 ==> Relative Error: 3.10239991184e-07\n",
      "Iteration: 593 ==> Relative Error: 3.04281061547e-07\n",
      "Iteration: 594 ==> Relative Error: 2.98433628712e-07\n",
      "Iteration: 595 ==> Relative Error: 2.92701800982e-07\n",
      "Iteration: 596 ==> Relative Error: 2.8707716293e-07\n",
      "Iteration: 597 ==> Relative Error: 2.81563773068e-07\n",
      "Iteration: 598 ==> Relative Error: 2.76153431782e-07\n",
      "Iteration: 599 ==> Relative Error: 2.70850147372e-07\n",
      "Iteration: 600 ==> Relative Error: 2.65645930169e-07\n",
      "Iteration: 601 ==> Relative Error: 2.60544737337e-07\n",
      "Iteration: 602 ==> Relative Error: 2.55538781337e-07\n",
      "Iteration: 603 ==> Relative Error: 2.5063197017e-07\n",
      "Iteration: 604 ==> Relative Error: 2.45816715537e-07\n",
      "Iteration: 605 ==> Relative Error: 2.41096872324e-07\n",
      "Iteration: 606 ==> Relative Error: 2.36465045372e-07\n",
      "Iteration: 607 ==> Relative Error: 2.31925038516e-07\n",
      "Iteration: 608 ==> Relative Error: 2.27469643584e-07\n",
      "Iteration: 609 ==> Relative Error: 2.23102613809e-07\n",
      "Iteration: 610 ==> Relative Error: 2.1881692348e-07\n",
      "Iteration: 611 ==> Relative Error: 2.14616273523e-07\n",
      "Iteration: 612 ==> Relative Error: 2.10493815248e-07\n",
      "Iteration: 613 ==> Relative Error: 2.06453198983e-07\n",
      "Iteration: 614 ==> Relative Error: 2.02487749241e-07\n",
      "Iteration: 615 ==> Relative Error: 1.98601063784e-07\n",
      "Iteration: 616 ==> Relative Error: 1.94786634869e-07\n",
      "Iteration: 617 ==> Relative Error: 1.91048009438e-07\n",
      "Iteration: 618 ==> Relative Error: 1.8737884305e-07\n",
      "Iteration: 619 ==> Relative Error: 1.83782631079e-07\n",
      "Iteration: 620 ==> Relative Error: 1.80253188567e-07\n",
      "Iteration: 621 ==> Relative Error: 1.76793959791e-07\n",
      "Iteration: 622 ==> Relative Error: 1.73398913235e-07\n",
      "Iteration: 623 ==> Relative Error: 1.70071443217e-07\n",
      "Iteration: 624 ==> Relative Error: 1.66805669254e-07\n",
      "Iteration: 625 ==> Relative Error: 1.63604933818e-07\n",
      "Iteration: 626 ==> Relative Error: 1.60463503614e-07\n",
      "Iteration: 627 ==> Relative Error: 1.57384670866e-07\n",
      "Iteration: 628 ==> Relative Error: 1.54362843944e-07\n",
      "Iteration: 629 ==> Relative Error: 1.51401265028e-07\n"
     ]
    },
    {
     "name": "stdout",
     "output_type": "stream",
     "text": [
      "Iteration: 630 ==> Relative Error: 1.48494481631e-07\n",
      "Iteration: 631 ==> Relative Error: 1.45645686396e-07\n",
      "Iteration: 632 ==> Relative Error: 1.42849561278e-07\n",
      "Iteration: 633 ==> Relative Error: 1.40109248779e-07\n",
      "Iteration: 634 ==> Relative Error: 1.37419563414e-07\n",
      "Iteration: 635 ==> Relative Error: 1.34783598624e-07\n",
      "Iteration: 636 ==> Relative Error: 1.3219629603e-07\n",
      "Iteration: 637 ==> Relative Error: 1.29660699904e-07\n",
      "Iteration: 638 ==> Relative Error: 1.2717187717e-07\n",
      "Iteration: 639 ==> Relative Error: 1.24732824015e-07\n",
      "Iteration: 640 ==> Relative Error: 1.22338727908e-07\n",
      "Iteration: 641 ==> Relative Error: 1.19992537023e-07\n",
      "Iteration: 642 ==> Relative Error: 1.17689556814e-07\n",
      "Iteration: 643 ==> Relative Error: 1.15432688153e-07\n",
      "Iteration: 644 ==> Relative Error: 1.13217351585e-07\n",
      "Iteration: 645 ==> Relative Error: 1.11046400448e-07\n",
      "Iteration: 646 ==> Relative Error: 1.08915367471e-07\n",
      "Iteration: 647 ==> Relative Error: 1.06827058803e-07\n",
      "Iteration: 648 ==> Relative Error: 1.04777116331e-07\n",
      "Iteration: 649 ==> Relative Error: 1.02768299881e-07\n",
      "Iteration: 650 ==> Relative Error: 1.00796358274e-07\n",
      "Iteration: 651 ==> Relative Error: 9.88640048288e-08\n",
      "Iteration: 652 ==> Relative Error: 9.69670910947e-08\n",
      "Iteration: 653 ==> Relative Error: 9.51082859541e-08\n",
      "Iteration: 654 ==> Relative Error: 9.32835418337e-08\n",
      "Iteration: 655 ==> Relative Error: 9.14954823021e-08\n",
      "Iteration: 656 ==> Relative Error: 8.97401579415e-08\n",
      "Iteration: 657 ==> Relative Error: 8.80201479238e-08\n",
      "Iteration: 658 ==> Relative Error: 8.63315981373e-08\n",
      "Iteration: 659 ==> Relative Error: 8.46770439079e-08\n",
      "Iteration: 660 ==> Relative Error: 8.30527248334e-08\n",
      "Iteration: 661 ==> Relative Error: 8.14611327345e-08\n",
      "Iteration: 662 ==> Relative Error: 7.98985973169e-08\n",
      "Iteration: 663 ==> Relative Error: 7.83675675617e-08\n",
      "Iteration: 664 ==> Relative Error: 7.68644622437e-08\n",
      "Iteration: 665 ==> Relative Error: 7.53916879088e-08\n",
      "Iteration: 666 ==> Relative Error: 7.39457487964e-08\n",
      "Iteration: 667 ==> Relative Error: 7.25290094664e-08\n",
      "Iteration: 668 ==> Relative Error: 7.1138058991e-08\n",
      "Iteration: 669 ==> Relative Error: 6.97752203665e-08\n",
      "Iteration: 670 ==> Relative Error: 6.84371640639e-08\n",
      "Iteration: 671 ==> Relative Error: 6.71261723624e-08\n",
      "Iteration: 672 ==> Relative Error: 6.58389954256e-08\n",
      "Iteration: 673 ==> Relative Error: 6.45778753358e-08\n",
      "Iteration: 674 ==> Relative Error: 6.33396403203e-08\n",
      "Iteration: 675 ==> Relative Error: 6.21264924076e-08\n",
      "Iteration: 676 ==> Relative Error: 6.09353350372e-08\n",
      "Iteration: 677 ==> Relative Error: 5.97683315601e-08\n",
      "Iteration: 678 ==> Relative Error: 5.86224592892e-08\n",
      "Iteration: 679 ==> Relative Error: 5.74998425553e-08\n",
      "Iteration: 680 ==> Relative Error: 5.63975307434e-08\n",
      "Iteration: 681 ==> Relative Error: 5.53176102137e-08\n",
      "Iteration: 682 ==> Relative Error: 5.42572003726e-08\n",
      "Iteration: 683 ==> Relative Error: 5.32183498438e-08\n",
      "Iteration: 684 ==> Relative Error: 5.21982463422e-08\n",
      "Iteration: 685 ==> Relative Error: 5.11989015363e-08\n",
      "Iteration: 686 ==> Relative Error: 5.02175699477e-08\n",
      "Iteration: 687 ==> Relative Error: 4.92562263743e-08\n",
      "Iteration: 688 ==> Relative Error: 4.83121905019e-08\n",
      "Iteration: 689 ==> Relative Error: 4.73874008553e-08\n",
      "Iteration: 690 ==> Relative Error: 4.64792407076e-08\n",
      "Iteration: 691 ==> Relative Error: 4.55896132276e-08\n",
      "Iteration: 692 ==> Relative Error: 4.47159632105e-08\n",
      "Iteration: 693 ==> Relative Error: 4.38601588077e-08\n",
      "Iteration: 694 ==> Relative Error: 4.30197053313e-08\n",
      "Iteration: 695 ==> Relative Error: 4.21964363379e-08\n",
      "Iteration: 696 ==> Relative Error: 4.13879157248e-08\n",
      "Iteration: 697 ==> Relative Error: 4.05959431537e-08\n",
      "Iteration: 698 ==> Relative Error: 3.9818139841e-08\n",
      "Iteration: 699 ==> Relative Error: 3.90562723726e-08\n",
      "Iteration: 700 ==> Relative Error: 3.83080174782e-08\n",
      "Iteration: 701 ==> Relative Error: 3.75751087055e-08\n",
      "Iteration: 702 ==> Relative Error: 3.68552778496e-08\n",
      "Iteration: 703 ==> Relative Error: 3.61502256942e-08\n",
      "Iteration: 704 ==> Relative Error: 3.54577368268e-08\n",
      "Iteration: 705 ==> Relative Error: 3.47794807679e-08\n",
      "Iteration: 706 ==> Relative Error: 3.41132935905e-08\n",
      "Iteration: 707 ==> Relative Error: 3.34608136919e-08\n",
      "Iteration: 708 ==> Relative Error: 3.28199274682e-08\n",
      "Iteration: 709 ==> Relative Error: 3.2192242223e-08\n",
      "Iteration: 710 ==> Relative Error: 3.15756944517e-08\n",
      "Iteration: 711 ==> Relative Error: 3.0971860558e-08\n",
      "Iteration: 712 ==> Relative Error: 3.03787250293e-08\n",
      "Iteration: 713 ==> Relative Error: 2.97978346802e-08\n",
      "Iteration: 714 ==> Relative Error: 2.9227220879e-08\n",
      "Iteration: 715 ==> Relative Error: 2.86684004709e-08\n",
      "Iteration: 716 ==> Relative Error: 2.81194516424e-08\n",
      "Iteration: 717 ==> Relative Error: 2.75818620895e-08\n",
      "Iteration: 718 ==> Relative Error: 2.70537536904e-08\n",
      "Iteration: 719 ==> Relative Error: 2.65365867756e-08\n",
      "Iteration: 720 ==> Relative Error: 2.60285265994e-08\n",
      "Iteration: 721 ==> Relative Error: 2.55310050808e-08\n",
      "Iteration: 722 ==> Relative Error: 2.50422303308e-08\n",
      "Iteration: 723 ==> Relative Error: 2.45636068878e-08\n",
      "Iteration: 724 ==> Relative Error: 2.4093384197e-08\n",
      "Iteration: 725 ==> Relative Error: 2.36329396122e-08\n",
      "Iteration: 726 ==> Relative Error: 2.31805636513e-08\n",
      "Iteration: 727 ==> Relative Error: 2.27376066785e-08\n",
      "Iteration: 728 ==> Relative Error: 2.23023983648e-08\n",
      "Iteration: 729 ==> Relative Error: 2.18762635895e-08\n",
      "Iteration: 730 ==> Relative Error: 2.14575703763e-08\n",
      "Iteration: 731 ==> Relative Error: 2.10476178563e-08\n",
      "Iteration: 732 ==> Relative Error: 2.06448119259e-08\n",
      "Iteration: 733 ==> Relative Error: 2.02504260039e-08\n",
      "Iteration: 734 ==> Relative Error: 1.98629031328e-08\n",
      "Iteration: 735 ==> Relative Error: 1.94834919765e-08\n",
      "Iteration: 736 ==> Relative Error: 1.9110671068e-08\n",
      "Iteration: 737 ==> Relative Error: 1.8745665048e-08\n",
      "Iteration: 738 ==> Relative Error: 1.83869874997e-08\n",
      "Iteration: 739 ==> Relative Error: 1.8035838587e-08\n",
      "Iteration: 740 ==> Relative Error: 1.76907665401e-08\n",
      "Iteration: 741 ==> Relative Error: 1.73529481971e-08\n",
      "Iteration: 742 ==> Relative Error: 1.70209643983e-08\n",
      "Iteration: 743 ==> Relative Error: 1.66959693666e-08\n",
      "Iteration: 744 ==> Relative Error: 1.63765768005e-08\n",
      "Iteration: 745 ==> Relative Error: 1.60639174861e-08\n",
      "Iteration: 746 ==> Relative Error: 1.57566373122e-08\n",
      "Iteration: 747 ==> Relative Error: 1.54558448846e-08\n",
      "Iteration: 748 ==> Relative Error: 1.51602167962e-08\n",
      "Iteration: 749 ==> Relative Error: 1.4870839984e-08\n",
      "Iteration: 750 ==> Relative Error: 1.45864214268e-08\n",
      "Iteration: 751 ==> Relative Error: 1.43080261411e-08\n",
      "Iteration: 752 ==> Relative Error: 1.40343908588e-08\n",
      "Iteration: 753 ==> Relative Error: 1.37665598228e-08\n",
      "Iteration: 754 ==> Relative Error: 1.35032982805e-08\n",
      "Iteration: 755 ==> Relative Error: 1.32456298008e-08\n",
      "Iteration: 756 ==> Relative Error: 1.29923480169e-08\n",
      "Iteration: 757 ==> Relative Error: 1.2744455622e-08\n",
      "Iteration: 758 ==> Relative Error: 1.25007744919e-08\n",
      "Iteration: 759 ==> Relative Error: 1.22622871504e-08\n",
      "Iteration: 760 ==> Relative Error: 1.20278417936e-08\n",
      "Iteration: 761 ==> Relative Error: 1.17984015141e-08\n",
      "Iteration: 762 ==> Relative Error: 1.15728410237e-08\n",
      "Iteration: 763 ==> Relative Error: 1.1352104334e-08\n",
      "Iteration: 764 ==> Relative Error: 1.11350916132e-08\n",
      "Iteration: 765 ==> Relative Error: 1.0922727866e-08\n",
      "Iteration: 766 ==> Relative Error: 1.07139377114e-08\n",
      "Iteration: 767 ==> Relative Error: 1.05096283429e-08\n",
      "Iteration: 768 ==> Relative Error: 1.03087490962e-08\n",
      "Iteration: 769 ==> Relative Error: 1.01121883519e-08\n",
      "Iteration: 770 ==> Relative Error: 9.91891941678e-09\n"
     ]
    }
   ],
   "source": [
    "start_time = time.time()\n",
    "gs_99, list_convgs99 = pagerank_gs(10**-8, csr_m, D, dict_in, 0.99)\n"
   ]
  },
  {
   "cell_type": "code",
   "execution_count": 11,
   "metadata": {},
   "outputs": [
    {
     "name": "stdout",
     "output_type": "stream",
     "text": [
      "Time of Pagerank with Gauss-Seidel: 3000.5469558238983 seconds\n"
     ]
    }
   ],
   "source": [
    "print(\"Time of Pagerank with Gauss-Seidel:\",\n",
    "      time.time() - start_time, \"seconds\")\n",
    "mat_prgs_99 = np.asarray(gs_99).ravel()\n"
   ]
  },
  {
   "cell_type": "markdown",
   "metadata": {},
   "source": [
    "### Comments"
   ]
  },
  {
   "cell_type": "markdown",
   "metadata": {},
   "source": [
    "We observe that both methods converge slower for alpha=0.99. The Gauss Seidel method for the iterative solution of the system converges much slower that time. Again, the power method seems to be much faster than the version with the Gauss-Seidel.Tthe ranking of the first 50 nodes changed. Apart from the fist most important node, which remains 89072, all the others changed position."
   ]
  },
  {
   "cell_type": "code",
   "execution_count": 12,
   "metadata": {},
   "outputs": [
    {
     "name": "stdout",
     "output_type": "stream",
     "text": [
      "The two aforementioned methods differ in: 138038 ranks.\n"
     ]
    }
   ],
   "source": [
    "indices_pr_99 = mat_prg_99.argsort()[-len(mat_prg):][::-1]\n",
    "indices_prs_99 = mat_prgs_99.argsort()[-len(mat_prg):][::-1]\n",
    "print(\"The two aforementioned methods differ in:\",\n",
    "      sum(indices_prs_99[:] != indices_pr_99[:]), \"ranks.\")\n"
   ]
  },
  {
   "cell_type": "code",
   "execution_count": 13,
   "metadata": {},
   "outputs": [
    {
     "name": "stdout",
     "output_type": "stream",
     "text": [
      "We observe differences in: 49 ranks (power method).\n"
     ]
    }
   ],
   "source": [
    "print(\"We observe differences in:\",\n",
    "      sum(indices_pr[:50] != indices_pr_99[:50]),\n",
    "      \"ranks (power method).\")\n"
   ]
  },
  {
   "cell_type": "code",
   "execution_count": 14,
   "metadata": {},
   "outputs": [
    {
     "name": "stdout",
     "output_type": "stream",
     "text": [
      "We observe differences in: 49 ranks (Gauss Seidel).\n"
     ]
    }
   ],
   "source": [
    "print(\"We observe differences in:\",\n",
    "      sum(indices_prs[:50] != indices_prs_99[:50]),\n",
    "      \"ranks (Gauss Seidel).\")\n"
   ]
  },
  {
   "cell_type": "markdown",
   "metadata": {},
   "source": [
    "### Question 1c"
   ]
  },
  {
   "cell_type": "markdown",
   "metadata": {},
   "source": [
    "We observe that the components of π that correspond to non important converge faster, as it is shown below."
   ]
  },
  {
   "cell_type": "code",
   "execution_count": 15,
   "metadata": {},
   "outputs": [
    {
     "name": "stdout",
     "output_type": "stream",
     "text": [
      "When we use the power method 42904 components of π converge at the second iteration.\n"
     ]
    }
   ],
   "source": [
    "print(\"When we use the power method\",\n",
    "      len(list_conv),\n",
    "      \"components of π converge at the second iteration.\")\n"
   ]
  },
  {
   "cell_type": "code",
   "execution_count": 16,
   "metadata": {},
   "outputs": [
    {
     "name": "stdout",
     "output_type": "stream",
     "text": [
      "From those components of π that converged faster 0 component(s) correspond to the top (1000) ranked nodes (Power method).\n"
     ]
    }
   ],
   "source": [
    "counter = 0\n",
    "for node in list_conv:\n",
    "    if node in indices_pr[:1000]:\n",
    "        counter += 1\n",
    "print(\"From those components of π that converged faster\",\n",
    "      counter,\n",
    "      \"component(s) correspond to the top (1000) ranked nodes (Power method).\")\n"
   ]
  },
  {
   "cell_type": "code",
   "execution_count": 17,
   "metadata": {},
   "outputs": [
    {
     "name": "stdout",
     "output_type": "stream",
     "text": [
      "When we find π through the solution of the linear system 34367 components of π converge at the second iteration.\n"
     ]
    }
   ],
   "source": [
    "print(\"When we find π through the solution of the linear system\",\n",
    "      len(list_convgs),\n",
    "      \"components of π converge at the second iteration.\")\n"
   ]
  },
  {
   "cell_type": "code",
   "execution_count": 18,
   "metadata": {},
   "outputs": [
    {
     "name": "stdout",
     "output_type": "stream",
     "text": [
      "From those components of π that converged faster 1 component(s) correspond to the top (1000) ranked nodes (Gauss Seidel).\n"
     ]
    }
   ],
   "source": [
    "counter = 0\n",
    "for node in list_convgs:\n",
    "    if node in indices_prs[:1000]:\n",
    "        counter += 1\n",
    "print(\"From those components of π that converged faster\", counter,\n",
    "      \"component(s) correspond to the top (1000) ranked nodes (Gauss Seidel).\")\n"
   ]
  },
  {
   "cell_type": "markdown",
   "metadata": {},
   "source": [
    "## Question 2a"
   ]
  },
  {
   "cell_type": "markdown",
   "metadata": {},
   "source": [
    "### New method definition"
   ]
  },
  {
   "cell_type": "code",
   "execution_count": 19,
   "metadata": {},
   "outputs": [],
   "source": [
    "# method to parse the data. The input file contains\n",
    "# in compressed form the connectivity matrix for the webpages\n",
    "# of Stanford University. Obviously, storing all that information\n",
    "# naively in a numpy array would lead to memory error. Thus, sparse\n",
    "# matrix is used.\n",
    "def load_data1(data):\n",
    "    # list to store the origin pages,\n",
    "    # i.e. the pages showing to other pages\n",
    "    from_pages = []\n",
    "    # list to store the destination pages,\n",
    "    # i.e. the pages being showed by other pages\n",
    "    to_pages = []\n",
    "    with open(data, 'r') as f:\n",
    "        # for each line of the initial data file\n",
    "        for line in f.readlines():\n",
    "            # get the item of the first column\n",
    "            # and substract one. This is done because the ids of webpages\n",
    "            # begin from 1 but the indexes for matrices begine from 0. So\n",
    "            # 1 will stand for 0.\n",
    "            from_page = int(line.split()[0]) - 1\n",
    "            # Apply the same logic as above for the element of the second\n",
    "            # column.\n",
    "            to_page = int(line.split()[1]) - 1\n",
    "            # append the the from page to the relative list\n",
    "            from_pages.append(from_page)\n",
    "            # append the the to page to the relative list\n",
    "            to_pages.append(to_page)\n",
    "            \n",
    "    # compute number of edges\n",
    "    edges = len(from_pages)\n",
    "    # compute number of nodes\n",
    "    nodes = len(set(from_pages) | set(to_pages))\n",
    "    \n",
    "\n",
    "    # fill the connectivity matrix, adjacency matrix. A sparse structure \n",
    "    # is used. That way the implementation is extremely memory efficient.\n",
    "    # increase the size of the array by introducing a dangling node, i.e.\n",
    "    # X\n",
    "    csr_m = sparse.csr_matrix(([1]*edges,\n",
    "                               (to_pages, from_pages)),\n",
    "                              shape=(nodes + 1, nodes + 1))\n",
    "    # return the adjacency sparse matrix\n",
    "    return csr_m\n"
   ]
  },
  {
   "cell_type": "code",
   "execution_count": 20,
   "metadata": {},
   "outputs": [],
   "source": [
    "csr_m1 = load_data1(\"stanweb.dat\")\n",
    "pr1, t1, list_conv1 = pagerank_galgo(csr_m1)\n"
   ]
  },
  {
   "cell_type": "markdown",
   "metadata": {},
   "source": [
    "### Comments\n",
    "\n",
    "We observe that the PageRanks of the older pages due to the addition of the new page remain almost unchanged, as they are not connected at all to the newly added page. Additionally, we should also bear in mind that the number of nodes  is a very large number. The PageRank of the newly added page is expected from the formula the PageRank is calculated. It is basically only the part (1 - alpha)/n = 0.15/281904."
   ]
  },
  {
   "cell_type": "code",
   "execution_count": 21,
   "metadata": {},
   "outputs": [
    {
     "name": "stdout",
     "output_type": "stream",
     "text": [
      "The PageRank of page X is: 5.33365878148e-07\n"
     ]
    }
   ],
   "source": [
    "pageRank_X = np.asarray(pr1[csr_m1.shape[0] - 1]).ravel()[0]\n",
    "print(\"The PageRank of page X is:\", pageRank_X)\n"
   ]
  },
  {
   "cell_type": "code",
   "execution_count": 22,
   "metadata": {},
   "outputs": [
    {
     "name": "stdout",
     "output_type": "stream",
     "text": [
      "Change in PageRank of the other pages due to the addition of the new page: 1.20480863548e-08\n",
      "Changes in: 50570 ranks.\n"
     ]
    }
   ],
   "source": [
    "norm_diff = np.linalg.norm(np.asarray(pr[:csr_m.shape[0]].ravel()) - np.asarray(pr1[:csr_m1.shape[0] - 1].ravel()))\n",
    "print(\"Change in PageRank of the other pages due to the addition of the new page:\", norm_diff)\n",
    "\n",
    "mat_prg = np.asarray(pr).ravel()\n",
    "mat_prg1 = np.asarray(pr1[:csr_m1.shape[0] - 1]).ravel()\n",
    "\n",
    "indices_pr = mat_prg.argsort()[-len(mat_prg):][::-1]\n",
    "indices_pr1 = mat_prg1.argsort()[-len(mat_prg1):][::-1]\n",
    "print(\"Changes in:\",\n",
    "      np.sum(indices_pr[:] != indices_pr1[:]), \"ranks.\")"
   ]
  },
  {
   "cell_type": "markdown",
   "metadata": {},
   "source": [
    "## Question 2b"
   ]
  },
  {
   "cell_type": "markdown",
   "metadata": {},
   "source": [
    "### New method definition"
   ]
  },
  {
   "cell_type": "code",
   "execution_count": 23,
   "metadata": {},
   "outputs": [],
   "source": [
    "# method to parse the data. The input file contains\n",
    "# in compressed form the connectivity matrix for the webpages\n",
    "# of Stanford University. Obviously, storing all that information\n",
    "# naively in a numpy array would lead to memory error. Thus, sparse\n",
    "# matrix is used.\n",
    "def load_data2(data):\n",
    "    # list to store the origin pages,\n",
    "    # i.e. the pages showing to other pages\n",
    "    from_pages = []\n",
    "    # list to store the destination pages,\n",
    "    # i.e. the pages being showed by other pages\n",
    "    to_pages = []\n",
    "    with open(data, 'r') as f:\n",
    "        # for each line of the initial data file\n",
    "        for line in f.readlines():\n",
    "            # get the item of the first column\n",
    "            # and substract one. This is done because the ids of webpages\n",
    "            # begin from 1 but the indexes for matrices begine from 0. So\n",
    "            # 1 will stand for 0.\n",
    "            from_page = int(line.split()[0]) - 1\n",
    "            # Apply the same logic as above for the element of the second\n",
    "            # column.\n",
    "            to_page = int(line.split()[1]) - 1\n",
    "            # append the the from page to the relative list\n",
    "            from_pages.append(from_page)\n",
    "            # append the the to page to the relative list\n",
    "            to_pages.append(to_page)\n",
    "            \n",
    "    # compute number of edges\n",
    "    edges = len(from_pages)\n",
    "    # compute number of nodes\n",
    "    nodes = len(set(from_pages) | set(to_pages))\n",
    "    \n",
    "    # add a new edge Y -> X\n",
    "    from_pages.append(nodes)\n",
    "    to_pages.append(nodes + 1)\n",
    "    # increase the number of nodes by two for X, Y\n",
    "    nodes += 2\n",
    "    # increase the number of edges by one\n",
    "    edges += 1\n",
    "    \n",
    "    # fill the connectivity matrix, adjacency matrix. A sparse structure \n",
    "    # is used. That way the implementation is extremely memory efficient.\n",
    "    csr_m = sparse.csr_matrix(([1]*edges,\n",
    "                               (to_pages, from_pages)),\n",
    "                              shape=(nodes, nodes))\n",
    "    # return the adjacency sparse matrix\n",
    "    return csr_m\n"
   ]
  },
  {
   "cell_type": "code",
   "execution_count": 24,
   "metadata": {},
   "outputs": [],
   "source": [
    "csr_m2 = load_data2(\"stanweb.dat\")\n",
    "pr2, t2, list_conv2 = pagerank_galgo(csr_m2)\n"
   ]
  },
  {
   "cell_type": "markdown",
   "metadata": {},
   "source": [
    "### Comments\n",
    "\n",
    "We observe that the PageRanks of the older pages changed more that time due to the addition of the new pages. Additionally, we should also bear in mind that the number of nodes is a very large number. The PageRank of the newly added page is expected from the formula the PageRank is calculated. The PageRank of X is obviously improved while the PageRank of Y is the same as page X in the previous question. "
   ]
  },
  {
   "cell_type": "code",
   "execution_count": 25,
   "metadata": {},
   "outputs": [
    {
     "name": "stdout",
     "output_type": "stream",
     "text": [
      "The PageRank of page X is: 9.8672590097e-07\n"
     ]
    }
   ],
   "source": [
    "pageRank_Xb = np.asarray(pr2[csr_m2.shape[0] - 1]).ravel()[0]\n",
    "print(\"The PageRank of page X is:\", pageRank_Xb)\n"
   ]
  },
  {
   "cell_type": "code",
   "execution_count": 26,
   "metadata": {},
   "outputs": [
    {
     "name": "stdout",
     "output_type": "stream",
     "text": [
      "The PageRank of page Y is: 5.33365351862e-07\n"
     ]
    }
   ],
   "source": [
    "pageRank_Yb = np.asarray(pr2[csr_m2.shape[0] - 2]).ravel()[0]\n",
    "print(\"The PageRank of page Y is:\", pageRank_Yb)\n"
   ]
  },
  {
   "cell_type": "code",
   "execution_count": 27,
   "metadata": {},
   "outputs": [
    {
     "name": "stdout",
     "output_type": "stream",
     "text": [
      "Change in PageRank of the other pages due to the addition of the new page: 3.43370136746e-08\n",
      "Changes in: 51477 ranks.\n"
     ]
    }
   ],
   "source": [
    "norm_diff = np.linalg.norm(np.asarray(pr[:csr_m.shape[0]].ravel()) - np.asarray(pr2[:csr_m2.shape[0] - 2].ravel()))\n",
    "print(\"Change in PageRank of the other pages due to the addition of the new page:\", norm_diff)\n",
    "\n",
    "mat_prg = np.asarray(pr).ravel()\n",
    "mat_prg2 = np.asarray(pr2[:csr_m2.shape[0] - 2]).ravel()\n",
    "\n",
    "indices_pr = mat_prg.argsort()[-len(mat_prg):][::-1]\n",
    "indices_pr2 = mat_prg2.argsort()[-len(mat_prg2):][::-1]\n",
    "print(\"Changes in:\",\n",
    "      np.sum(indices_pr[:] != indices_pr2[:]), \"ranks.\")"
   ]
  },
  {
   "cell_type": "markdown",
   "metadata": {},
   "source": [
    "### Question 2c"
   ]
  },
  {
   "cell_type": "code",
   "execution_count": 28,
   "metadata": {},
   "outputs": [],
   "source": [
    "# method to parse the data. The input file contains\n",
    "# in compressed form the connectivity matrix for the webpages\n",
    "# of Stanford University. Obviously, storing all that information\n",
    "# naively in a numpy array would lead to memory error. Thus, sparse\n",
    "# matrix is used.\n",
    "def load_data3(data):\n",
    "    # list to store the origin pages,\n",
    "    # i.e. the pages showing to other pages\n",
    "    from_pages = []\n",
    "    # list to store the destination pages,\n",
    "    # i.e. the pages being showed by other pages\n",
    "    to_pages = []\n",
    "    with open(data, 'r') as f:\n",
    "        # for each line of the initial data file\n",
    "        for line in f.readlines():\n",
    "            # get the item of the first column\n",
    "            # and substract one. This is done because the ids of webpages\n",
    "            # begin from 1 but the indexes for matrices begine from 0. So\n",
    "            # 1 will stand for 0.\n",
    "            from_page = int(line.split()[0]) - 1\n",
    "            # Apply the same logic as above for the element of the second\n",
    "            # column.\n",
    "            to_page = int(line.split()[1]) - 1\n",
    "            # append the the from page to the relative list\n",
    "            from_pages.append(from_page)\n",
    "            # append the the to page to the relative list\n",
    "            to_pages.append(to_page)\n",
    "            \n",
    "    # compute number of edges\n",
    "    edges = len(from_pages)\n",
    "    # compute number of nodes\n",
    "    nodes = len(set(from_pages) | set(to_pages))\n",
    "    \n",
    "    # add a new edge Y -> X\n",
    "    from_pages.append(nodes)\n",
    "    to_pages.append(nodes + 2)\n",
    "    \n",
    "    # add a new edge Z -> X\n",
    "    from_pages.append(nodes + 1)\n",
    "    to_pages.append(nodes + 2)\n",
    "\n",
    "    # increases as needed the number of nodes and edges\n",
    "    nodes += 3\n",
    "    edges += 2\n",
    "    \n",
    "    # fill the connectivity matrix, adjacency matrix. A sparse structure \n",
    "    # is used. That way the implementation is extremely memory efficient.\n",
    "    csr_m = sparse.csr_matrix(([1]*edges,\n",
    "                               (to_pages, from_pages)),\n",
    "                              shape=(nodes, nodes))\n",
    "    # return the adjacency sparse matrix\n",
    "    return csr_m\n"
   ]
  },
  {
   "cell_type": "code",
   "execution_count": 29,
   "metadata": {},
   "outputs": [],
   "source": [
    "csr_m3 = load_data3(\"stanweb.dat\")\n",
    "pr3, t3, list_conv3 = pagerank_galgo(csr_m3)\n"
   ]
  },
  {
   "cell_type": "markdown",
   "metadata": {},
   "source": [
    "### Comments\n",
    "\n",
    "In order to to maximize the PageRank of X, both Y and Z should point only to X, according to logic behind PageRank. This is implemented and the results are presented below. Obviously, the PageRank of X is now again improved."
   ]
  },
  {
   "cell_type": "code",
   "execution_count": 30,
   "metadata": {},
   "outputs": [
    {
     "name": "stdout",
     "output_type": "stream",
     "text": [
      "The PageRank of page X is: 1.44008502911e-06\n"
     ]
    }
   ],
   "source": [
    "pageRank_Xc = np.asarray(pr3[csr_m3.shape[0] - 1]).ravel()[0]\n",
    "print(\"The PageRank of page X is:\", pageRank_Xc)\n"
   ]
  },
  {
   "cell_type": "code",
   "execution_count": 31,
   "metadata": {},
   "outputs": [
    {
     "name": "stdout",
     "output_type": "stream",
     "text": [
      "The PageRank of page Y is: 5.33364825577e-07\n"
     ]
    }
   ],
   "source": [
    "pageRank_Yc = np.asarray(pr3[csr_m3.shape[0] - 2]).ravel()[0]\n",
    "print(\"The PageRank of page Y is:\", pageRank_Yc)\n"
   ]
  },
  {
   "cell_type": "code",
   "execution_count": 32,
   "metadata": {},
   "outputs": [
    {
     "name": "stdout",
     "output_type": "stream",
     "text": [
      "The PageRank of page Z is: 5.33364825577e-07\n"
     ]
    }
   ],
   "source": [
    "pageRank_Zc = np.asarray(pr3[csr_m3.shape[0] - 3]).ravel()[0]\n",
    "print(\"The PageRank of page Z is:\", pageRank_Zc)\n"
   ]
  },
  {
   "cell_type": "code",
   "execution_count": 33,
   "metadata": {},
   "outputs": [
    {
     "name": "stdout",
     "output_type": "stream",
     "text": [
      "Changes in PageRank of the other pages due to the addition of the new page: 5.66258974095e-08\n",
      "Changes in: 52911 ranks.\n"
     ]
    }
   ],
   "source": [
    "norm_diff = np.linalg.norm(np.asarray(pr[:csr_m.shape[0]].ravel()) - np.asarray(pr3[:csr_m3.shape[0] - 3].ravel()))\n",
    "print(\"Changes in PageRank of the other pages due to the addition of the new page:\", norm_diff)\n",
    "\n",
    "mat_prg = np.asarray(pr).ravel()\n",
    "mat_prg3 = np.asarray(pr3[:csr_m3.shape[0] - 3]).ravel()\n",
    "\n",
    "indices_pr = mat_prg.argsort()[-len(mat_prg):][::-1]\n",
    "indices_pr3 = mat_prg3.argsort()[-len(mat_prg3):][::-1]\n",
    "print(\"Changes in:\",\n",
    "      np.sum(indices_pr[:] != indices_pr3[:]), \"ranks.\")\n"
   ]
  },
  {
   "cell_type": "markdown",
   "metadata": {},
   "source": [
    "## Question 2d"
   ]
  },
  {
   "cell_type": "code",
   "execution_count": 34,
   "metadata": {},
   "outputs": [],
   "source": [
    "# determine top 100 - most popular pages - here as popular are considered\n",
    "# pages with high PageRank, because PageRank can be seen as a measure of\n",
    "# popularity\n",
    "top_100 = indices_pr[0:100]\n",
    "\n",
    "# determine top 100 - most popular pages - here as popular are considered\n",
    "# pages with high in-degree\n",
    "list_degree = np.asarray([len(dict_in[x]) for x in sorted(list(dict_in.keys()))])\n",
    "indices_degree = list_degree.argsort()[-len(list_degree):][::-1]\n",
    "popular_100 = list_degree[0:100]\n"
   ]
  },
  {
   "cell_type": "code",
   "execution_count": 35,
   "metadata": {},
   "outputs": [],
   "source": [
    "# method to parse the data. The input file contains\n",
    "# in compressed form the connectivity matrix for the webpages\n",
    "# of Stanford University. Obviously, storing all that information\n",
    "# naively in a numpy array would lead to memory error. Thus, sparse\n",
    "# matrix is used.\n",
    "def load_data4(data, top100):\n",
    "    # list to store the origin pages,\n",
    "    # i.e. the pages showing to other pages\n",
    "    from_pages = []\n",
    "    # list to store the destination pages,\n",
    "    # i.e. the pages being showed by other pages\n",
    "    to_pages = []\n",
    "    with open(data, 'r') as f:\n",
    "        # for each line of the initial data file\n",
    "        for line in f.readlines():\n",
    "            # get the item of the first column\n",
    "            # and substract one. This is done because the ids of webpages\n",
    "            # begin from 1 but the indexes for matrices begine from 0. So\n",
    "            # 1 will stand for 0.\n",
    "            from_page = int(line.split()[0]) - 1\n",
    "            # Apply the same logic as above for the element of the second\n",
    "            # column.\n",
    "            to_page = int(line.split()[1]) - 1\n",
    "            # append the the from page to the relative list\n",
    "            from_pages.append(from_page)\n",
    "            # append the the to page to the relative list\n",
    "            to_pages.append(to_page)\n",
    "            \n",
    "    # compute number of edges\n",
    "    edges = len(from_pages)\n",
    "    # compute number of nodes\n",
    "    nodes = len(set(from_pages) | set(to_pages))\n",
    "    \n",
    "    # add a new edge Y -> X\n",
    "    from_pages.append(nodes)\n",
    "    to_pages.append(nodes + 2)\n",
    "    \n",
    "    # add a new edge Z -> X\n",
    "    from_pages.append(nodes + 1)\n",
    "    to_pages.append(nodes + 2)\n",
    "    \n",
    "    # add links from X to older, popular pages\n",
    "    for node in top_100:\n",
    "        from_pages.append(nodes + 2)\n",
    "        to_pages.append(node)\n",
    "    \n",
    "    # increase number of nodes and edges as needed\n",
    "    nodes += 3\n",
    "    edges += 102\n",
    "    \n",
    "    # fill the connectivity matrix, adjacency matrix. A sparse structure \n",
    "    # is used. That way the implementation is extremely memory efficient.\n",
    "    csr_m = sparse.csr_matrix(([1]*edges,\n",
    "                               (to_pages, from_pages)),\n",
    "                              shape=(nodes, nodes))\n",
    "    # return the adjacency sparse matrix\n",
    "    return csr_m\n"
   ]
  },
  {
   "cell_type": "code",
   "execution_count": 36,
   "metadata": {},
   "outputs": [],
   "source": [
    "# method to parse the data. The input file contains\n",
    "# in compressed form the connectivity matrix for the webpages\n",
    "# of Stanford University. Obviously, storing all that information\n",
    "# naively in a numpy array would lead to memory error. Thus, sparse\n",
    "# matrix is used.\n",
    "def load_data5(data, top100):\n",
    "    # list to store the origin pages,\n",
    "    # i.e. the pages showing to other pages\n",
    "    from_pages = []\n",
    "    # list to store the destination pages,\n",
    "    # i.e. the pages being showed by other pages\n",
    "    to_pages = []\n",
    "    with open(data, 'r') as f:\n",
    "        # for each line of the initial data file\n",
    "        for line in f.readlines():\n",
    "            # get the item of the first column\n",
    "            # and substract one. This is done because the ids of webpages\n",
    "            # begin from 1 but the indexes for matrices begine from 0. So\n",
    "            # 1 will stand for 0.\n",
    "            from_page = int(line.split()[0]) - 1\n",
    "            # Apply the same logic as above for the element of the second\n",
    "            # column.\n",
    "            to_page = int(line.split()[1]) - 1\n",
    "            # append the the from page to the relative list\n",
    "            from_pages.append(from_page)\n",
    "            # append the the to page to the relative list\n",
    "            to_pages.append(to_page)\n",
    "            \n",
    "    # compute number of edges\n",
    "    edges = len(from_pages)\n",
    "    # compute number of nodes\n",
    "    nodes = len(set(from_pages) | set(to_pages))\n",
    "    \n",
    "    # add a new edge Y -> X\n",
    "    from_pages.append(nodes)\n",
    "    to_pages.append(nodes + 2)\n",
    "    \n",
    "    # add a new edge Z -> X\n",
    "    from_pages.append(nodes + 1)\n",
    "    to_pages.append(nodes + 2)\n",
    "    \n",
    "    # add links from Y (or Z) to older, popular pages\n",
    "    for node in top_100:\n",
    "        from_pages.append(nodes + 1)\n",
    "        to_pages.append(node)\n",
    "\n",
    "    # increase number of nodes and edges as needed\n",
    "    nodes += 3\n",
    "    edges += 102\n",
    "    \n",
    "    # fill the connectivity matrix, adjacency matrix. A sparse structure \n",
    "    # is used. That way the implementation is extremely memory efficient.\n",
    "    csr_m = sparse.csr_matrix(([1]*edges,\n",
    "                               (to_pages, from_pages)),\n",
    "                              shape=(nodes, nodes))\n",
    "    # return the adjacency sparse matrix\n",
    "    return csr_m\n"
   ]
  },
  {
   "cell_type": "code",
   "execution_count": 37,
   "metadata": {},
   "outputs": [],
   "source": [
    "csr_m4 = load_data4(\"stanweb.dat\", top_100)\n",
    "pr4, t4, list_conv4 = pagerank_galgo(csr_m4)\n",
    "\n",
    "csr_m5 = load_data5(\"stanweb.dat\", top_100)\n",
    "pr5, t4, list_conv5 = pagerank_galgo(csr_m5)\n"
   ]
  },
  {
   "cell_type": "markdown",
   "metadata": {},
   "source": [
    "### Comments\n",
    "\n",
    "We observe that if we add links from X to older, popular pages (top 100) the PageRank is slightly worse and if we add links from Y (or Z) to older, popular pages (top 100) the PageRank of X is even worse. This is rational as the PageRank of Y (or Z) is now split to more webpages. Consequently, this is not an effective way of increasing the PageRank of X, as in general the PageRank of a webpage is increasing as the webpages pointing to that webpage increases."
   ]
  },
  {
   "cell_type": "code",
   "execution_count": 39,
   "metadata": {},
   "outputs": [
    {
     "name": "stdout",
     "output_type": "stream",
     "text": [
      "If we add links from X to older, popular pages the PageRank of page X is: 1.44007329858e-06\n",
      "If we add links from Y to older, popular pages the PageRank of page X is: 9.91211125315e-07\n"
     ]
    }
   ],
   "source": [
    "# if we add links from X to older, popular pages\n",
    "pageRank_Xd = np.asarray(pr4[csr_m4.shape[0] - 1]).ravel()[0]\n",
    "print(\"If we add links from X to older, popular pages the PageRank of page X is:\", pageRank_Xd)\n",
    "\n",
    "# if we add links from Y to older, popular pages\n",
    "pageRank_Xd2 = np.asarray(pr5[csr_m5.shape[0] - 1]).ravel()[0]\n",
    "print(\"If we add links from Y to older, popular pages the PageRank of page X is:\", pageRank_Xd2)\n"
   ]
  },
  {
   "cell_type": "markdown",
   "metadata": {},
   "source": [
    "## Question 2e\n",
    "\n",
    "Based on the previous questions it is obvious that increasing the PageRank of a webpage is a tough task. However, that does not mean it is also impossible. The PageRank of a webpage can be increased if more and more pages point to that to webpage. Of course, if those webpages have high PageRank then their contribution will be even more significant. Nevertheless, in general, the more pages pointing to a webpage, the higher the PageRank of that page. Moreover, interconnections amongst those pages could also be helpful."
   ]
  }
 ],
 "metadata": {
  "kernelspec": {
   "display_name": "Python 3",
   "language": "python",
   "name": "python3"
  },
  "language_info": {
   "codemirror_mode": {
    "name": "ipython",
    "version": 3
   },
   "file_extension": ".py",
   "mimetype": "text/x-python",
   "name": "python",
   "nbconvert_exporter": "python",
   "pygments_lexer": "ipython3",
   "version": "3.6.3"
  }
 },
 "nbformat": 4,
 "nbformat_minor": 2
}
