{
 "cells": [
  {
   "cell_type": "markdown",
   "metadata": {},
   "source": [
    "# Assignment 3\n",
    "## Numerical Optimization & Large Scale Linear Algebra\n",
    "### Professor: P. Vassalos\n",
    "\n",
    "### Stratos Gounidellis, DS3517005"
   ]
  },
  {
   "cell_type": "code",
   "execution_count": 3,
   "metadata": {},
   "outputs": [],
   "source": [
    "# import necessary libraries\n",
    "import numpy as np\n",
    "from scipy.linalg import toeplitz\n",
    "from scipy.sparse.linalg import inv\n",
    "from scipy import linalg\n",
    "import scipy.sparse as sparse\n",
    "from numpy import linalg as LA\n",
    "import scipy.sparse\n",
    "import math\n",
    "import matplotlib.pyplot as plt\n",
    "import time\n",
    "from spectrum import CHOLESKY\n",
    "import pandas as pd\n",
    "% matplotlib inline\n"
   ]
  },
  {
   "cell_type": "code",
   "execution_count": 14,
   "metadata": {},
   "outputs": [],
   "source": [
    "# method to create toeplitz matrix. As input is given a power of two.\n",
    "# For instance, if we want an 8x8 matrix the input should be 3.\n",
    "def create_toeplitz(power_two):\n",
    "    # initialize all the elements of the toeplitz\n",
    "    # matrix apart from the diagonal\n",
    "    toeplitz_c = np.asarray([((-1)**k)*2/(k)**2 for\n",
    "                             k in range(1, 2**power_two)])\n",
    "    # add also the element of the diagonal\n",
    "    toeplitz_c = np.hstack(([math.pi**2/3], toeplitz_c))\n",
    "    # create the toeplitz matrix using the built-in library\n",
    "    # of scipy\n",
    "    toeplitz_mat = toeplitz(toeplitz_c)\n",
    "    # return the toeplitz matrix\n",
    "    return toeplitz_mat\n"
   ]
  },
  {
   "cell_type": "code",
   "execution_count": 15,
   "metadata": {},
   "outputs": [],
   "source": [
    "# method to create tridiagonal matrix\n",
    "def create_tridiag(n):\n",
    "    # initialize a matrix with zeros according to the required dimensions\n",
    "    diagonals = np.zeros((3, n))\n",
    "    # fill the first line with the element of the first lower diagonal\n",
    "    diagonals[0, :] = -1\n",
    "    # fill the first line with the element of the  diagonal\n",
    "    diagonals[1, :] = 2\n",
    "    # fill the first line with the element of the first upper diagonal\n",
    "    diagonals[2, :] = -1\n",
    "    # create the tridiagonal matrix using the structure of a sparse matrix\n",
    "    # for memory efficiency reasons\n",
    "    tridiag = scipy.sparse.spdiags(diagonals, [-1, 0, 1], n, n, format='csc')\n",
    "    return tridiag\n"
   ]
  },
  {
   "cell_type": "markdown",
   "metadata": {},
   "source": [
    "## Question 1"
   ]
  },
  {
   "cell_type": "markdown",
   "metadata": {},
   "source": [
    "### Steepest descent method"
   ]
  },
  {
   "cell_type": "code",
   "execution_count": 16,
   "metadata": {
    "scrolled": true
   },
   "outputs": [],
   "source": [
    "# implement steepest descent method\n",
    "# The steepest descent algorithm descends along a function by \n",
    "# taking steps in the opposite direction of the gradient of that function,\n",
    "# at a given position. Step by step, it approaches the nearer local minimum.\n",
    "def steep_descent(A, tol=10**-7, max_iter=1000):\n",
    "    x_old = np.zeros(A.shape[0])\n",
    "    b = np.ones(A.shape[0])\n",
    "    r_old = b.copy()\n",
    "    k = 0\n",
    "    r_new = r_old.copy()\n",
    "    x_new = x_old.copy()\n",
    "    while scipy.linalg.norm(r_old) > tol and k < max_iter:\n",
    "        k += 1\n",
    "        r_dot = np.dot(r_old, r_old)\n",
    "        a = r_dot / np.dot(np.dot(A, r_old), r_old)\n",
    "        x_new = x_old + np.dot(a, r_old)\n",
    "        r_new = b - np.dot(A, x_new)\n",
    "        x_old = x_new.copy()\n",
    "        r_old = r_new.copy()\n",
    "    return x_old, k, scipy.linalg.norm(r_old)\n"
   ]
  },
  {
   "cell_type": "markdown",
   "metadata": {},
   "source": [
    "### Conjugate gredient method"
   ]
  },
  {
   "cell_type": "code",
   "execution_count": 17,
   "metadata": {},
   "outputs": [],
   "source": [
    "# implement the conjugate gredient method\n",
    "# the conjugate gradient method is an algorithm for the numerical solution\n",
    "# of particular systems of linear equations, namely those\n",
    "# whose matrix is symmetric and positive-definite. The conjugate\n",
    "# gradient method is often implemented as an iterative algorithm.\n",
    "def conjugate_grad(A, tol=10**-7):\n",
    "    n = A.shape[0]\n",
    "    x_old = np.zeros(A.shape[0])\n",
    "    b = np.ones(A.shape[0])\n",
    "    r_old = b.copy()\n",
    "    p = r_old.copy()\n",
    "\n",
    "    alpha_1 = np.dot(r_old, r_old)/np.dot(np.dot(A, p), p)\n",
    "    x_new = x_old + alpha_1*p\n",
    "    r_old2 = b - np.dot(A, x_new)\n",
    "\n",
    "    p_old = p.copy()\n",
    "    k = 0\n",
    "\n",
    "    while k < n and scipy.linalg.norm(r_old2) > tol:\n",
    "        k += 1\n",
    "        beta = np.dot(r_old2, r_old2)/np.dot(r_old, r_old)\n",
    "        p = r_old2 + np.dot(beta, p_old)\n",
    "        alpha = np.dot(r_old2, r_old2)/np.dot(np.dot(A, p), p)\n",
    "        x = x_old + np.dot(alpha, p)\n",
    "        r = b - np.dot(A, x)\n",
    "        x_old = x.copy()\n",
    "        p_old = p.copy()\n",
    "        r_old = r_old2.copy()\n",
    "        r_old2 = r.copy()\n",
    "        if k >= 1000:\n",
    "            break\n",
    "    return x, k, scipy.linalg.norm(r_old2)\n"
   ]
  },
  {
   "cell_type": "markdown",
   "metadata": {},
   "source": [
    "### Preconditioned conjugate gredient method"
   ]
  },
  {
   "cell_type": "code",
   "execution_count": 18,
   "metadata": {},
   "outputs": [],
   "source": [
    "# implement the preconditioned conjugate gradient\n",
    "# preconditioning is the application of a transformation, called\n",
    "# the preconditioner, that conditions a given problem into a form that is\n",
    "# more suitable for numerical solving methods. Preconditioning is\n",
    "# typically related to reducing a condition number of the problem.\n",
    "# In most cases, preconditioning is necessary to ensure fast convergence \n",
    "# of the conjugate gradient method. \n",
    "def p_conjugate_grad(A, M, tol=10**-7):\n",
    "    inv_M = inv(M)\n",
    "    n = A.shape[0]\n",
    "    x_old = np.zeros(A.shape[0])\n",
    "    b = np.ones(A.shape[0])\n",
    "    r_old = b.copy()\n",
    "    z = inv_M.dot(r_old)\n",
    "    p = r_old.copy()\n",
    "\n",
    "    alpha_1 = np.dot(r_old, r_old)/np.dot(np.dot(A, p), p)\n",
    "    x_new = x_old + alpha_1*p\n",
    "    r_old2 = b - np.dot(A, x_new)\n",
    "\n",
    "    p_old = p.copy()\n",
    "    k = 0\n",
    "\n",
    "    while k < n and scipy.linalg.norm(r_old2) > tol:\n",
    "        k += 1\n",
    "        beta = np.dot(r_old2, r_old2)/np.dot(r_old, r_old)\n",
    "        z = inv_M.dot(r_old2)\n",
    "        p = z + np.dot(beta, p_old)\n",
    "        alpha = np.dot(z, r_old2)/np.dot(np.dot(A, p), p)\n",
    "        x = x_old + np.dot(alpha, p)\n",
    "        r = b - np.dot(A, x)\n",
    "        x_old = x.copy()\n",
    "        p_old = p.copy()\n",
    "        r_old = r_old2.copy()\n",
    "        r_old2 = r.copy()\n",
    "        if k >= 1000:\n",
    "            break\n",
    "    return x, k, scipy.linalg.norm(r_old2)\n"
   ]
  },
  {
   "cell_type": "markdown",
   "metadata": {},
   "source": [
    "## Question 2"
   ]
  },
  {
   "cell_type": "code",
   "execution_count": 6,
   "metadata": {
    "scrolled": false
   },
   "outputs": [
    {
     "name": "stdout",
     "output_type": "stream",
     "text": [
      "Solve the system with steepest descent!\n",
      "Size: 2^9 , Iterations: 1000 , Time needed: 0.16750709531424815 , Error: 30.317156739363718\n",
      "Size: 2^10 , Iterations: 1000 , Time needed: 1.4071947908699582 , Error: 44.04579598728225\n",
      "Size: 2^11 , Iterations: 1000 , Time needed: 6.848945658426199 , Error: 63.32883502032458\n",
      "Size: 2^12 , Iterations: 1000 , Time needed: 24.267796359740338 , Error: 90.92356230275138\n",
      "Size: 2^13 , Iterations: 1000 , Time needed: 97.24953817247459 , Error: 131.3112886851631\n"
     ]
    }
   ],
   "source": [
    "print(\"Solve the system with steepest descent!\")\n",
    "for i in range(9, 14):\n",
    "    toeplitz_mat = create_toeplitz(i)\n",
    "    start_time = time.clock()\n",
    "    steep_desc = steep_descent(toeplitz_mat)\n",
    "    end_time = time.clock()\n",
    "    print (\"Size: 2^\" + str(i),  \n",
    "           \", Iterations:\", steep_desc[1], \n",
    "           \", Time needed:\", end_time-start_time,\n",
    "           \", Error:\", steep_desc[2])\n"
   ]
  },
  {
   "cell_type": "code",
   "execution_count": 7,
   "metadata": {},
   "outputs": [
    {
     "name": "stdout",
     "output_type": "stream",
     "text": [
      "Solve the system with conjugate gradient!\n",
      "Size: 2^9 , Iterations: 512 , Time needed: 0.0830321643711045 , Error: 0.003420879747037168\n",
      "Size: 2^10 , Iterations: 1000 , Time needed: 1.3455449643811903 , Error: 0.001635195372485668\n",
      "Size: 2^11 , Iterations: 1000 , Time needed: 6.291670748974411 , Error: 655.3160332151992\n",
      "Size: 2^12 , Iterations: 1000 , Time needed: 25.958346238693338 , Error: 2511.8137513842735\n",
      "Size: 2^13 , Iterations: 1000 , Time needed: 99.82369013229837 , Error: 6096.549350274443\n"
     ]
    }
   ],
   "source": [
    "print(\"Solve the system with conjugate gradient!\")\n",
    "for i in range(9, 14):\n",
    "    toeplitz_mat = create_toeplitz(i)\n",
    "    start_time = time.clock()\n",
    "    conj_grad = conjugate_grad(toeplitz_mat)\n",
    "    end_time = time.clock()\n",
    "    print (\"Size: 2^\" + str(i),  \n",
    "           \", Iterations:\", conj_grad[1], \n",
    "           \", Time needed:\", end_time-start_time,\n",
    "           \", Error:\", conj_grad[2])\n"
   ]
  },
  {
   "cell_type": "markdown",
   "metadata": {},
   "source": [
    "### Comments\n",
    "\n",
    "Although we cannot judge by the number of iterations as it is constant (1000) the condition number seems to increase extremely as n increases and thus the problem becomes more and more ill-conditioned."
   ]
  },
  {
   "cell_type": "markdown",
   "metadata": {},
   "source": [
    "## Question 3"
   ]
  },
  {
   "cell_type": "code",
   "execution_count": 9,
   "metadata": {},
   "outputs": [
    {
     "name": "stdout",
     "output_type": "stream",
     "text": [
      "Solve the system with preconditioned conjugate gradient!\n",
      "Size: 2^6 , Iterations: 59 , Time needed: 0.0262921689222253 , Error: 9.71467312105853e-08\n",
      "Size: 2^7 , Iterations: 117 , Time needed: 0.04108408184418977 , Error: 9.091826193580368e-08\n",
      "Size: 2^8 , Iterations: 256 , Time needed: 0.11867703204109148 , Error: 5.978432677850982e-07\n",
      "Size: 2^9 , Iterations: 512 , Time needed: 0.42322640847515913 , Error: 4.220547399584723e-06\n",
      "Size: 2^10 , Iterations: 1000 , Time needed: 2.860731544281691 , Error: 1.219977425165745e-06\n"
     ]
    }
   ],
   "source": [
    "print(\"Solve the system with preconditioned conjugate gradient!\")\n",
    "for i in range(6, 11):\n",
    "    toeplitz_mat = create_toeplitz(i)\n",
    "    tridiag = create_tridiag(2**i)\n",
    "    start_time = time.clock()\n",
    "    conj_grad = p_conjugate_grad(toeplitz_mat, tridiag)\n",
    "    end_time = time.clock()\n",
    "    print (\"Size: 2^\" + str(i),  \n",
    "           \", Iterations:\", conj_grad[1], \n",
    "           \", Time needed:\", end_time-start_time, \n",
    "           \", Error:\", conj_grad[2])"
   ]
  },
  {
   "cell_type": "code",
   "execution_count": 10,
   "metadata": {},
   "outputs": [
    {
     "name": "stdout",
     "output_type": "stream",
     "text": [
      "Solve the system with conjugate gradient!\n",
      "Size: 2^6 , Iterations: 64 , Time needed: 0.002783607137700983 , Error: 0.033032334499895254\n",
      "Size: 2^7 , Iterations: 128 , Time needed: 0.00710361055098474 , Error: 0.013514289820533902\n",
      "Size: 2^8 , Iterations: 256 , Time needed: 0.017637544799981697 , Error: 0.006389570407130786\n",
      "Size: 2^9 , Iterations: 512 , Time needed: 0.08797992136686617 , Error: 0.003420879747037168\n",
      "Size: 2^10 , Iterations: 1000 , Time needed: 1.1721992471697718 , Error: 0.001635195372485668\n"
     ]
    }
   ],
   "source": [
    "print(\"Solve the system with conjugate gradient!\")\n",
    "for i in range(6, 11):\n",
    "    toeplitz_mat = create_toeplitz(i)\n",
    "    start_time = time.clock()\n",
    "    conj_grad = conjugate_grad(toeplitz_mat)\n",
    "    end_time = time.clock()\n",
    "    print (\"Size: 2^\" + str(i),  \n",
    "           \", Iterations:\", conj_grad[1], \n",
    "           \", Time needed:\", end_time-start_time,\n",
    "           \", Error:\", conj_grad[2])"
   ]
  },
  {
   "cell_type": "markdown",
   "metadata": {},
   "source": [
    "### Comments\n",
    "\n",
    "It is obvious that the preconditioned conjugate gradient method outperforms when it comes to number of iterations and error in comparison with conjugate gradient method. This happens because preconditioning leads to reducing the condition number of the problem. Additionally, we observe that for 2^6 and 2^7 the preconditioned conjugate gradient method needed fewer iterations to achieve the tolerance level than the dimension of the toeplitz matrix."
   ]
  },
  {
   "cell_type": "markdown",
   "metadata": {},
   "source": [
    "## Question 4"
   ]
  },
  {
   "cell_type": "code",
   "execution_count": 19,
   "metadata": {},
   "outputs": [],
   "source": [
    "def cond_toeplitz(min_power=10, max_power=13):\n",
    "    cond_numbers = []\n",
    "    for i in range(min_power, max_power + 1) :\n",
    "        toeplitz_mat = create_toeplitz(i)\n",
    "        cond_numbers.append(LA.cond(toeplitz_mat, 2))\n",
    "    return cond_numbers, min_power, max_power\n",
    "\n",
    "def cond_pre_toeplitz(min_power=10, max_power=13):\n",
    "    cond_numbers = []\n",
    "    for i in range(min_power, max_power + 1) :\n",
    "        toeplitz_mat = create_toeplitz(i)\n",
    "        tridiag = create_tridiag(2**i)\n",
    "        p_toeplitz = np.dot(inv(tridiag).todense(), toeplitz_mat)\n",
    "        cond_numbers.append(LA.cond(p_toeplitz, 2))\n",
    "    return cond_numbers, min_power, max_power\n",
    "\n",
    "cond_numbers_pre_t, min_power, max_power = cond_pre_toeplitz(min_power=10, max_power=13)\n",
    "cond_numbers_t, min_power, max_power = cond_toeplitz(min_power=10, max_power=13)\n",
    "dimensions = np.arange(min_power, max_power + 1, 1)\n"
   ]
  },
  {
   "cell_type": "code",
   "execution_count": 20,
   "metadata": {},
   "outputs": [
    {
     "data": {
      "image/png": "[encoded data removed]",
      "text/plain": [
       "<matplotlib.figure.Figure at 0x21d51bf4668>"
      ]
     },
     "metadata": {},
     "output_type": "display_data"
    }
   ],
   "source": [
    "plt.plot(cond_numbers_t, dimensions, marker='*')\n",
    "plt.title('Dimensions vs. Condition Number of Toeplitz matrix')\n",
    "plt.ylabel('Dimensions - Power of 2')\n",
    "plt.xlabel(\"Condition Number of Toeplitz matrix\")\n",
    "plt.show()\n"
   ]
  },
  {
   "cell_type": "code",
   "execution_count": 21,
   "metadata": {},
   "outputs": [
    {
     "data": {
      "image/png": "[encoded data removed]",
      "text/plain": [
       "<matplotlib.figure.Figure at 0x21d00823198>"
      ]
     },
     "metadata": {},
     "output_type": "display_data"
    }
   ],
   "source": [
    "plt.plot(cond_numbers_pre_t, dimensions, marker='*')\n",
    "plt.title('Dimensions vs. Condition Number of Preconditioned Toeplitz matrix')\n",
    "plt.ylabel('Dimensions - Power of 2')\n",
    "plt.xlabel(\"Condition Number of Preconditioned Toeplitz matrix\")\n",
    "plt.show()\n"
   ]
  },
  {
   "cell_type": "markdown",
   "metadata": {},
   "source": [
    "### Comments\n",
    "\n",
    "We observe that as n increases the condition number of T (toeplitz matrix) increases exponentially. A high condition number means that the matrix is almost non-invertible. The higher the condition number, the greater the error in the calculation. That is why preconditioning is of critical importance. It is obvious that the condition number of the preconditioned T matrix is significantly smaller and thus the problem becomes more well-conditioned. The higher condition number of the intial T matrix explain also the need for more iterations and the higher residual norm."
   ]
  },
  {
   "cell_type": "markdown",
   "metadata": {},
   "source": [
    "## Question 5"
   ]
  },
  {
   "cell_type": "code",
   "execution_count": 22,
   "metadata": {},
   "outputs": [],
   "source": [
    "toeplitz_mat13 = create_toeplitz(13)\n",
    "b13 = np.ones(2**13)\n",
    "tridiag13 = create_tridiag(2**13)\n"
   ]
  },
  {
   "cell_type": "markdown",
   "metadata": {},
   "source": [
    "### Cholesky Decomposition"
   ]
  },
  {
   "cell_type": "code",
   "execution_count": 14,
   "metadata": {},
   "outputs": [
    {
     "name": "stdout",
     "output_type": "stream",
     "text": [
      "Time of simple Cholesky factorization for 2^13x2^13 matrix: 8.374555950266313 seconds\n",
      "Accuracy of simple Cholesky factorization for 2^13x2^13 matrix: 0.9999999654876931\n",
      "[  3543.98468312   7721.40557256  11782.37360061 ...,  11782.37360129\n",
      "   7721.405573     3543.98468332]\n"
     ]
    }
   ],
   "source": [
    "start = time.clock()\n",
    "x_cho = CHOLESKY(toeplitz_mat13, b13)\n",
    "end = time.clock()\n",
    "print (\"Time of simple Cholesky factorization for 2^13x2^13 matrix:\", end - start, \"seconds\")\n",
    "time13 = end - start\n",
    "acc13 = 1 - scipy.linalg.norm(np.dot(toeplitz_mat13, x_cho) - b13)/scipy.linalg.norm(b13)\n",
    "print(\"Accuracy of simple Cholesky factorization for 2^13x2^13 matrix:\", acc13)\n",
    "print(x_cho)\n"
   ]
  },
  {
   "cell_type": "markdown",
   "metadata": {},
   "source": [
    "### Successive Over-Relaxation (SOR)"
   ]
  },
  {
   "cell_type": "code",
   "execution_count": 15,
   "metadata": {
    "scrolled": true
   },
   "outputs": [
    {
     "name": "stdout",
     "output_type": "stream",
     "text": [
      "0.1 [ 0.  0.  0. ...,  0.  0.  0.]\n",
      "[  5.08786246  10.30986224  14.53641132 ...,  14.62792436  10.37776272\n",
      "   5.12254562] 1000\n",
      "0.2 [ 0.  0.  0. ...,  0.  0.  0.]\n",
      "[  7.56428969  15.68138448  22.6671887  ...,  22.88350926  15.83494884\n",
      "   7.639932  ] 1000\n",
      "0.3 [ 0.  0.  0. ...,  0.  0.  0.]\n",
      "[  9.62740051  20.16628391  29.48199855 ...,  29.84271309  20.41766264\n",
      "   9.74929879] 1000\n",
      "0.4 [ 0.  0.  0. ...,  0.  0.  0.]\n",
      "[ 11.52380096  24.29244793  35.76145208 ...,  36.28751888  24.6551057\n",
      "  11.69802407] 1000\n",
      "0.5 [ 0.  0.  0. ...,  0.  0.  0.]\n",
      "[ 13.35526248  28.27925612  41.83398291 ...,  42.54961083  28.76895308\n",
      "  13.58900138] 1000\n",
      "0.6 [ 0.  0.  0. ...,  0.  0.  0.]\n",
      "[ 15.18151149  32.25594043  47.89435285 ...,  48.82842989  32.89159828\n",
      "  15.48344821] 1000\n",
      "0.7 [ 0.  0.  0. ...,  0.  0.  0.]\n",
      "[ 17.04696735  36.31886196  54.08844929 ...,  55.2762164   37.12363577\n",
      "  17.42775663] 1000\n",
      "0.8 [ 0.  0.  0. ...,  0.  0.  0.]\n",
      "[ 18.9914218   40.55450132  60.54762321 ...,  62.03292594  41.55724744\n",
      "  19.46436178] 1000\n",
      "0.9 [ 0.  0.  0. ...,  0.  0.  0.]\n",
      "[ 21.05612226  45.05261223  67.40848846 ...,  69.24699516  46.28999951\n",
      "  21.63812457] 1000\n",
      "1.0 [ 0.  0.  0. ...,  0.  0.  0.]\n",
      "[ 23.28881905  49.91717664  74.82952346 ...,  77.09352258  51.43684047\n",
      "  24.00186091] 1000\n",
      "1.1 [ 0.  0.  0. ...,  0.  0.  0.]\n",
      "[ 25.74960924  55.27911992  83.01042266 ...,  85.79626973  57.144562\n",
      "  26.62299081] 1000\n",
      "1.2 [ 0.  0.  0. ...,  0.  0.  0.]\n",
      "[ 28.51939052  61.31472591  92.2201777  ...,  95.66039139  63.6132742\n",
      "  29.59340263] 1000\n",
      "1.3 [ 0.  0.  0. ...,  0.  0.  0.]\n",
      "[  31.71387136   68.27616803  102.8436694  ...,  107.12767316   71.13262475\n",
      "   33.04608358] 1000\n",
      "1.4 [ 0.  0.  0. ...,  0.  0.  0.]\n",
      "[  35.50922506   76.54742388  115.46701914 ...,  120.87918983   80.14909657\n",
      "   37.18601608] 1000\n",
      "1.5 [ 0.  0.  0. ...,  0.  0.  0.]\n",
      "[  40.19389813   86.75720086  131.04998137 ...,  138.04580467   91.40398939\n",
      "   42.35352234] 1000\n",
      "1.6 [ 0.  0.  0. ...,  0.  0.  0.]\n",
      "[  46.28638876  100.03566112  151.31787459 ...,  160.69544612  106.25281877\n",
      "   49.17089137] 1000\n",
      "1.7 [ 0.  0.  0. ...,  0.  0.  0.]\n",
      "[  54.85026284  118.70107805  179.80988783 ...,  193.16770952  127.54010558\n",
      "   58.94396619] 1000\n",
      "1.8 [ 0.  0.  0. ...,  0.  0.  0.]\n",
      "[  68.5770069   148.62021024  225.48266979 ...,  246.82382203  162.71279595\n",
      "   75.09140197] 1000\n",
      "1.9 [ 0.  0.  0. ...,  0.  0.  0.]\n",
      "[  97.75217334  212.21334139  322.56551433 ...,  367.93737335  242.10131883\n",
      "  111.53674228] 1000\n"
     ]
    }
   ],
   "source": [
    "# this implementation of successive over-relaxation iterative method\n",
    "# is based on the following two links \n",
    "# 1. https://en.wikipedia.org/wiki/Successive_over-relaxation and\n",
    "# 2. https://www.maa.org/press/periodicals/loci/joma/iterative-methods-for-solving-iaxi-ibi-the-sor-method\n",
    "\n",
    "\n",
    "# That implemementation is memory efficient as it does not compute\n",
    "# L, D, U matrices as well as the inverse matrice. On the contary,\n",
    "# only the initial matrix of the linear system is used and dot products are\n",
    "# implemented. The method terminated when the relative error is lower than\n",
    "# a given threshold.\n",
    "def sor(A, x, b, omega, tol, max_iter):\n",
    "    error = 1\n",
    "    iteration = 0\n",
    "    w = (omega/np.diagonal(A))\n",
    "    while (error > tol) and iteration < max_iter:\n",
    "        iteration += 1\n",
    "        x_prev = x.copy()\n",
    "        for i in range(len(x)):\n",
    "            before = np.dot(A[i, 0:i], x[0:i])\n",
    "            after = np.dot(A[i, i:len(x)], x_prev[i:len(x)])\n",
    "            x[i] += w[i] * (b[i] - before - after)\n",
    "        error = scipy.linalg.norm(x - x_prev)/scipy.linalg.norm(x)\n",
    "    print (x, iteration)\n",
    "    return (error, iteration)\n",
    "\n",
    "# the above method is applied in a 2^13x2^13 matrix\n",
    "# different omegas are given as parameter its time and\n",
    "# the best omega with the least number of iterations\n",
    "# will be presented at the end\n",
    "iterations = []\n",
    "errors = []\n",
    "time_sor = []\n",
    "for w in np.arange(.1, 2, .1):\n",
    "    x = np.zeros(2**13)\n",
    "    print(w, x)\n",
    "    start_time = time.clock()\n",
    "    output = sor(toeplitz_mat13, x, b13, w, 10**(-7), 1000)\n",
    "    end = time.clock()\n",
    "    errors.append(output[0])\n",
    "    iterations.append(output[1])\n",
    "    time_sor.append(start_time - end_time)\n"
   ]
  },
  {
   "cell_type": "code",
   "execution_count": 16,
   "metadata": {
    "scrolled": true
   },
   "outputs": [
    {
     "data": {
      "text/html": [
       "<div>\n",
       "<style scoped>\n",
       "    .dataframe tbody tr th:only-of-type {\n",
       "        vertical-align: middle;\n",
       "    }\n",
       "\n",
       "    .dataframe tbody tr th {\n",
       "        vertical-align: top;\n",
       "    }\n",
       "\n",
       "    .dataframe thead th {\n",
       "        text-align: right;\n",
       "    }\n",
       "</style>\n",
       "<table border=\"1\" class=\"dataframe\">\n",
       "  <thead>\n",
       "    <tr style=\"text-align: right;\">\n",
       "      <th></th>\n",
       "      <th>Omega</th>\n",
       "      <th>Error</th>\n",
       "      <th>Iterations</th>\n",
       "      <th>Time</th>\n",
       "    </tr>\n",
       "  </thead>\n",
       "  <tbody>\n",
       "    <tr>\n",
       "      <th>0</th>\n",
       "      <td>0.1</td>\n",
       "      <td>0.001000</td>\n",
       "      <td>1000</td>\n",
       "      <td>1615.841628</td>\n",
       "    </tr>\n",
       "    <tr>\n",
       "      <th>1</th>\n",
       "      <td>0.2</td>\n",
       "      <td>0.001000</td>\n",
       "      <td>1000</td>\n",
       "      <td>1750.714833</td>\n",
       "    </tr>\n",
       "    <tr>\n",
       "      <th>2</th>\n",
       "      <td>0.3</td>\n",
       "      <td>0.000999</td>\n",
       "      <td>1000</td>\n",
       "      <td>1846.944837</td>\n",
       "    </tr>\n",
       "    <tr>\n",
       "      <th>3</th>\n",
       "      <td>0.4</td>\n",
       "      <td>0.000999</td>\n",
       "      <td>1000</td>\n",
       "      <td>1942.256995</td>\n",
       "    </tr>\n",
       "    <tr>\n",
       "      <th>4</th>\n",
       "      <td>0.5</td>\n",
       "      <td>0.000999</td>\n",
       "      <td>1000</td>\n",
       "      <td>2039.730865</td>\n",
       "    </tr>\n",
       "    <tr>\n",
       "      <th>5</th>\n",
       "      <td>0.6</td>\n",
       "      <td>0.000999</td>\n",
       "      <td>1000</td>\n",
       "      <td>2138.897170</td>\n",
       "    </tr>\n",
       "    <tr>\n",
       "      <th>6</th>\n",
       "      <td>0.7</td>\n",
       "      <td>0.000999</td>\n",
       "      <td>1000</td>\n",
       "      <td>2233.355429</td>\n",
       "    </tr>\n",
       "    <tr>\n",
       "      <th>7</th>\n",
       "      <td>0.8</td>\n",
       "      <td>0.000999</td>\n",
       "      <td>1000</td>\n",
       "      <td>2328.418019</td>\n",
       "    </tr>\n",
       "    <tr>\n",
       "      <th>8</th>\n",
       "      <td>0.9</td>\n",
       "      <td>0.000999</td>\n",
       "      <td>1000</td>\n",
       "      <td>2421.553541</td>\n",
       "    </tr>\n",
       "    <tr>\n",
       "      <th>9</th>\n",
       "      <td>1.0</td>\n",
       "      <td>0.000998</td>\n",
       "      <td>1000</td>\n",
       "      <td>2515.353500</td>\n",
       "    </tr>\n",
       "    <tr>\n",
       "      <th>10</th>\n",
       "      <td>1.1</td>\n",
       "      <td>0.000998</td>\n",
       "      <td>1000</td>\n",
       "      <td>2609.265350</td>\n",
       "    </tr>\n",
       "    <tr>\n",
       "      <th>11</th>\n",
       "      <td>1.2</td>\n",
       "      <td>0.000998</td>\n",
       "      <td>1000</td>\n",
       "      <td>2703.362181</td>\n",
       "    </tr>\n",
       "    <tr>\n",
       "      <th>12</th>\n",
       "      <td>1.3</td>\n",
       "      <td>0.000998</td>\n",
       "      <td>1000</td>\n",
       "      <td>2799.136198</td>\n",
       "    </tr>\n",
       "    <tr>\n",
       "      <th>13</th>\n",
       "      <td>1.4</td>\n",
       "      <td>0.000998</td>\n",
       "      <td>1000</td>\n",
       "      <td>2894.322640</td>\n",
       "    </tr>\n",
       "    <tr>\n",
       "      <th>14</th>\n",
       "      <td>1.5</td>\n",
       "      <td>0.000997</td>\n",
       "      <td>1000</td>\n",
       "      <td>2999.981408</td>\n",
       "    </tr>\n",
       "    <tr>\n",
       "      <th>15</th>\n",
       "      <td>1.6</td>\n",
       "      <td>0.000997</td>\n",
       "      <td>1000</td>\n",
       "      <td>3106.719908</td>\n",
       "    </tr>\n",
       "    <tr>\n",
       "      <th>16</th>\n",
       "      <td>1.7</td>\n",
       "      <td>0.000996</td>\n",
       "      <td>1000</td>\n",
       "      <td>3198.528587</td>\n",
       "    </tr>\n",
       "    <tr>\n",
       "      <th>17</th>\n",
       "      <td>1.8</td>\n",
       "      <td>0.000995</td>\n",
       "      <td>1000</td>\n",
       "      <td>3300.367744</td>\n",
       "    </tr>\n",
       "    <tr>\n",
       "      <th>18</th>\n",
       "      <td>1.9</td>\n",
       "      <td>0.000993</td>\n",
       "      <td>1000</td>\n",
       "      <td>3394.536188</td>\n",
       "    </tr>\n",
       "  </tbody>\n",
       "</table>\n",
       "</div>"
      ],
      "text/plain": [
       "    Omega     Error  Iterations         Time\n",
       "0     0.1  0.001000        1000  1615.841628\n",
       "1     0.2  0.001000        1000  1750.714833\n",
       "2     0.3  0.000999        1000  1846.944837\n",
       "3     0.4  0.000999        1000  1942.256995\n",
       "4     0.5  0.000999        1000  2039.730865\n",
       "5     0.6  0.000999        1000  2138.897170\n",
       "6     0.7  0.000999        1000  2233.355429\n",
       "7     0.8  0.000999        1000  2328.418019\n",
       "8     0.9  0.000999        1000  2421.553541\n",
       "9     1.0  0.000998        1000  2515.353500\n",
       "10    1.1  0.000998        1000  2609.265350\n",
       "11    1.2  0.000998        1000  2703.362181\n",
       "12    1.3  0.000998        1000  2799.136198\n",
       "13    1.4  0.000998        1000  2894.322640\n",
       "14    1.5  0.000997        1000  2999.981408\n",
       "15    1.6  0.000997        1000  3106.719908\n",
       "16    1.7  0.000996        1000  3198.528587\n",
       "17    1.8  0.000995        1000  3300.367744\n",
       "18    1.9  0.000993        1000  3394.536188"
      ]
     },
     "execution_count": 16,
     "metadata": {},
     "output_type": "execute_result"
    }
   ],
   "source": [
    "pd.DataFrame({'Omega': list(np.arange(.1, 2, .1)),\n",
    "              'Iterations': iterations,\n",
    "              'Time': time_sor, \n",
    "              'Error': errors},\n",
    "             columns=[\"Omega\", \"Error\", \"Iterations\", \"Time\"])"
   ]
  },
  {
   "cell_type": "code",
   "execution_count": 17,
   "metadata": {},
   "outputs": [
    {
     "name": "stdout",
     "output_type": "stream",
     "text": [
      "Since the spectral radius of Tj is greater than one (1.99946027836) optimum omega cannot be computed numerically and thus Jacobi method does not converge.\n"
     ]
    }
   ],
   "source": [
    "# diagonal part of A and rest\n",
    "D = np.diag(toeplitz_mat13)\n",
    "R = toeplitz_mat13 - np.diagflat(D)\n",
    "D = np.diag(D)\n",
    "\n",
    "# iteration matrix of Jacobi\n",
    "Tj = np.dot(np.linalg.inv(D), R)\n",
    "# spectral radius of the iteration matrix\n",
    "beta, _ = sparse.linalg.eigsh(Tj, 1, which='LM')\n",
    "\n",
    "if abs(beta) >= 1:\n",
    "# If beta is smaller than one we cannot apply the formula to compute the optimum omega.\n",
    "# Additionally, the standard convergence condition (for any iterative method and Jacobi) \n",
    "# is when the spectral radius of the iteration matrix is less than 1. Consequently, we can\n",
    "# conclude that Jacobi would not converge.\n",
    "    print(\"Since the spectral radius of Tj is greater than one (\" +\n",
    "          str(beta[0]) + \") optimum omega cannot be computed numerically and thus Jacobi method does not converge.\")\n",
    "else:\n",
    "# If the above condition is false run SOR with optimum omega\n",
    "# The following formula can be used for bicyclic matriced or \n",
    "# consistently ordered matrices\n",
    "    wopt = 2 / (1 + np.sqrt(1 - beta**2))\n",
    "    wopt = np.real(wopt)\n",
    "    x = np.ones(2**13)\n",
    "    sor(toeplitz_mat13, x, b13, wopt, 10**(-7))\n"
   ]
  },
  {
   "cell_type": "code",
   "execution_count": 18,
   "metadata": {},
   "outputs": [
    {
     "name": "stdout",
     "output_type": "stream",
     "text": [
      "Matrix is not diagonal dominant!\n"
     ]
    }
   ],
   "source": [
    "# method to check whether the matrix is diagonally dominant.\n",
    "# In mathematics, a square matrix is said to be diagonally dominant if\n",
    "# for every row of the matrix, the magnitude of the diagonal entry\n",
    "# in a row is larger than or equal to the sum of the magnitudes of all\n",
    "# the other (non-diagonal) entries in that row. If the matrix is not diagonal\n",
    "# dominant it is another indication that the Jacobi method does not converge.\n",
    "def check_diagonal_dominant(A):\n",
    "    D = np.diag(np.abs(A))\n",
    "    S = np.sum(np.abs(A), axis=1) - D\n",
    "    if np.all(D > S):\n",
    "        print ('Matrix is strictly diagonal dominant!')\n",
    "    else:\n",
    "        print ('Matrix is not diagonal dominant!')\n",
    "    return\n",
    "# We observe that the matrix is not diagonally dominant, so\n",
    "# that observation comes to verify the above results, that the \n",
    "# spectral radius of the Jacobi transition matix is greater than 1\n",
    "# and thus the Jacobi iteration method will not converge. \n",
    "check_diagonal_dominant(toeplitz_mat13)\n"
   ]
  },
  {
   "cell_type": "markdown",
   "metadata": {},
   "source": [
    "### Jacobi iterative method\n",
    "\n",
    "It was proven above that specral radius of the transition (or iterative) matrix of the Jacobi iterative method is greater than 1. Additionaly, the T matrix is not diagonal dominant. Consequently, tha Jacobi method will not converge. However, for the completeness of the project the executable python code is presented below, although there is no reason for running it as the results will not be credible and the method will not converge."
   ]
  },
  {
   "cell_type": "code",
   "execution_count": 19,
   "metadata": {},
   "outputs": [],
   "source": [
    "# this implementation of the Jacobi iterative method\n",
    "# is based on the following link\n",
    "# 1. https://www.maa.org/press/periodicals/loci/joma/iterative-methods-for-solving-iaxi-ibi-the-sor-method\n",
    "\n",
    "# Obviously, the implementation is very similar to SOR\n",
    "def jacobi(A, x, b, tol, max_iter):\n",
    "    error = 1\n",
    "    iteration = 0\n",
    "    w = (1/np.diagonal(A))\n",
    "    while (error > tol) and iteration < max_iter:\n",
    "        iteration += 1\n",
    "        x_prev = x.copy()\n",
    "        for i in range(len(x)):\n",
    "            before = np.dot(A[i, 0:i], x_prev[0:i])\n",
    "            after = np.dot(A[i, i:len(x)], x_prev[i:len(x)])\n",
    "            x[i] += w[i] * (b[i] - before - after)\n",
    "        error = scipy.linalg.norm(x - x_prev)/scipy.linalg.norm(x)\n",
    "    print (x, iteration)\n",
    "    return (x, error, iteration)\n",
    "\n",
    "# x = np.zeros(2**13)\n",
    "# output = jacobi(toeplitz_mat13, x, b13, 10**(-7), 1000)\n"
   ]
  },
  {
   "cell_type": "markdown",
   "metadata": {},
   "source": [
    "### Preconditioned conjugate gradient method"
   ]
  },
  {
   "cell_type": "code",
   "execution_count": 25,
   "metadata": {},
   "outputs": [
    {
     "name": "stdout",
     "output_type": "stream",
     "text": [
      "Size: 2^13 , Iterations: 1000 , Time needed: 186.93991817475018 , Error: 138.3434806206808\n"
     ]
    }
   ],
   "source": [
    "start_time = time.clock()\n",
    "p_conj_grad13 = p_conjugate_grad(toeplitz_mat13, tridiag13)\n",
    "end_time = time.clock()\n",
    "print (\"Size: 2^\" + str(13),  \n",
    "       \", Iterations:\", p_conj_grad13[1], \n",
    "       \", Time needed:\", end_time-start_time,\n",
    "       \", Error:\", p_conj_grad13[2])"
   ]
  },
  {
   "cell_type": "code",
   "execution_count": 26,
   "metadata": {},
   "outputs": [
    {
     "data": {
      "text/plain": [
       "array([  3538.22949598,   7711.23294515,  11784.0194754 , ...,\n",
       "        11784.01947394,   7711.23294403,   3538.22949545])"
      ]
     },
     "execution_count": 26,
     "metadata": {},
     "output_type": "execute_result"
    }
   ],
   "source": [
    "p_conj_grad13[0]"
   ]
  },
  {
   "cell_type": "markdown",
   "metadata": {},
   "source": [
    "### Comments\n",
    "\n",
    "Obviously, Cholesky decomposition is the fastest method. It only needs 8.374555950266313 seconds and in comparison to the preconditioned conjugate gradient method, which needs 186.93991817475018, it is 2132.237% faster. "
   ]
  }
 ],
 "metadata": {
  "kernelspec": {
   "display_name": "Python 3",
   "language": "python",
   "name": "python3"
  },
  "language_info": {
   "codemirror_mode": {
    "name": "ipython",
    "version": 3
   },
   "file_extension": ".py",
   "mimetype": "text/x-python",
   "name": "python",
   "nbconvert_exporter": "python",
   "pygments_lexer": "ipython3",
   "version": "3.6.3"
  }
 },
 "nbformat": 4,
 "nbformat_minor": 2
}
