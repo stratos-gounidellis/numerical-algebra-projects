{
 "cells": [
  {
   "cell_type": "markdown",
   "metadata": {},
   "source": [
    "# Assignment 2a\n",
    "## Numerical Optimization & Large Scale Linear Algebra\n",
    "### Professor: P. Vassalos\n",
    "\n",
    "### Stratos Gounidellis, DS3517005"
   ]
  },
  {
   "cell_type": "code",
   "execution_count": 1,
   "metadata": {},
   "outputs": [],
   "source": [
    "# import necessary libraries\n",
    "import numpy as np\n",
    "import pandas as pd\n",
    "from sklearn.decomposition import TruncatedSVD\n",
    "from sklearn.preprocessing import MinMaxScaler\n",
    "from scipy import linalg\n",
    "from scipy.linalg import norm\n",
    "from sklearn.metrics import accuracy_score\n",
    "from sklearn.metrics import precision_score\n",
    "from sklearn.metrics import recall_score\n",
    "from sklearn.metrics import f1_score\n",
    "import matplotlib.pyplot as plt\n",
    "from sklearn.metrics import confusion_matrix, classification_report\n",
    "import matplotlib as mpl\n",
    "import time\n",
    "% matplotlib inline\n"
   ]
  },
  {
   "cell_type": "markdown",
   "metadata": {},
   "source": [
    "## Data loading & Initial pre-processing"
   ]
  },
  {
   "cell_type": "code",
   "execution_count": 2,
   "metadata": {},
   "outputs": [],
   "source": [
    "# read training and test data from excel file\n",
    "xl = pd.ExcelFile(\"data_handwritten.xlsx\")\n",
    "\n",
    "# convert data to numpy array and transpose data\n",
    "# in order to handle them in a morde convenient\n",
    "# way\n",
    "x_train = np.asarray(xl.parse(\"azip\", header=None)).T\n",
    "y_train = np.asarray(xl.parse(\"dzip\", header=None)).T\n",
    "\n",
    "x_test = np.asarray(xl.parse(\"testzip\", header=None)).T\n",
    "y_test = np.asarray(xl.parse(\"dtest\", header=None)).T\n"
   ]
  },
  {
   "cell_type": "code",
   "execution_count": 3,
   "metadata": {},
   "outputs": [],
   "source": [
    "# although data seem normalized, normalize them\n",
    "# between -1 and 1 before applying SVD in order\n",
    "# to avoid any problems\n",
    "normalizer = MinMaxScaler(feature_range=(-1.0, 1.0))\n",
    "X_train = normalizer.fit_transform(x_train)\n",
    "X_test = normalizer.transform(x_test)\n"
   ]
  },
  {
   "cell_type": "markdown",
   "metadata": {},
   "source": [
    "## Methods' declaration"
   ]
  },
  {
   "cell_type": "code",
   "execution_count": 4,
   "metadata": {},
   "outputs": [],
   "source": [
    "# create a dictionary having as keys the\n",
    "# the digits from 0 to 9 and as values all\n",
    "# the training data corresponding to that specific\n",
    "# key. That data separation is a necessary step for\n",
    "# the implementation of the classification algorithm\n",
    "# and its variations.\n",
    "def create_dict(X, y):\n",
    "    dict_digits = {}\n",
    "    for i, digit in enumerate(list(y)):\n",
    "        digit = int(digit)\n",
    "        if digit in dict_digits.keys():\n",
    "            dict_digits[digit].append(X[i])\n",
    "        else:\n",
    "            dict_digits[digit] = [X[i]]\n",
    "    return dict_digits\n"
   ]
  },
  {
   "cell_type": "code",
   "execution_count": 18,
   "metadata": {},
   "outputs": [],
   "source": [
    "# method to compute the k singular vectors\n",
    "# of the training data\n",
    "def svd_tranform(components, X_train):\n",
    "    U_train, s_train, Vh_train = linalg.svd(np.asarray(X_train).T,\n",
    "                                            check_finite=False)\n",
    "    return U_train[:, 0:components], s_train[0:components]\n",
    "\n",
    "# method to compute truncated SVD per digit.\n",
    "# Return a dictionary containing different number\n",
    "# of basis vectors (1-20) for each digit.\n",
    "def trunc_svd(dict_train):\n",
    "    svd_dict = {}\n",
    "    for component in range(1, 21):\n",
    "        temp = {}\n",
    "        for digit in sorted(dict_train.keys()):\n",
    "            temp[digit] = svd_tranform(component, dict_train[digit])[0]\n",
    "        svd_dict[component] = temp\n",
    "    return svd_dict\n"
   ]
  },
  {
   "cell_type": "code",
   "execution_count": 6,
   "metadata": {},
   "outputs": [],
   "source": [
    "# method to convert an array to image,\n",
    "# plot the first 21 digits from\n",
    "# each class\n",
    "def to_image(digit, dict_train):\n",
    "    counter = 0\n",
    "    while counter < 21:\n",
    "\n",
    "        fig, (ax1, ax2, ax3) = plt.subplots(figsize=(6, 6), ncols=3)\n",
    "        array = dict_train[digit][counter].reshape(16, 16)\n",
    "        array = (array - min(array.ravel())) * np.ones(array.shape)\n",
    "        array = (20 / max(array.ravel())) * array\n",
    "\n",
    "        ax1.imshow(np.uint8(array.reshape(16, 16)), cmap=\"gray\")\n",
    "\n",
    "        counter += 1\n",
    "        array = dict_train[digit][counter].reshape(16, 16)\n",
    "        array = (array - min(array.ravel()))*np.ones(array.shape)\n",
    "        array = (20/max(array.ravel()))*array\n",
    "\n",
    "        ax2.imshow(np.uint8(array.reshape(16, 16)), cmap=\"gray\")\n",
    "\n",
    "        counter += 1\n",
    "        array = dict_train[digit][counter].reshape(16, 16)\n",
    "        array = (array - min(array.ravel())) * np.ones(array.shape)\n",
    "        array = (20 / max(array.ravel())) * array\n",
    "\n",
    "        ax3.imshow(np.uint8(array.reshape(16, 16)), cmap=\"gray\")\n"
   ]
  },
  {
   "cell_type": "markdown",
   "metadata": {},
   "source": [
    "### Classifier - Question 1 & 2"
   ]
  },
  {
   "cell_type": "code",
   "execution_count": 7,
   "metadata": {},
   "outputs": [],
   "source": [
    "def svd_classifier(x_test, components, svd_dict):\n",
    "    # create a 2-D array with ones on the diagonal\n",
    "    # and zeros elsewhere\n",
    "    ones = np.eye(256)\n",
    "    # initialize a list for the predictions\n",
    "    y_pred = []\n",
    "    for sample in x_test:\n",
    "        # initialize a list for the norms\n",
    "        norms = []\n",
    "        for digit in svd_dict[components].keys():\n",
    "            svd = svd_dict[components][digit]\n",
    "            # compute 10 least squares residuals\n",
    "            norms.append(norm(np.dot(ones - np.dot(svd, svd.T),\n",
    "                                     sample)) / norm(sample))\n",
    "        # ff one residual is significantly smaller than all\n",
    "        # the others, classify as that.\n",
    "        y_pred.append(norms.index(min(norms)))\n",
    "    # return the prediction\n",
    "    return y_pred\n"
   ]
  },
  {
   "cell_type": "markdown",
   "metadata": {},
   "source": [
    "### Classifier - Question 3"
   ]
  },
  {
   "cell_type": "code",
   "execution_count": 29,
   "metadata": {},
   "outputs": [],
   "source": [
    "def svd_classifier_adj(x_test, components, svd_dict, dig_component):\n",
    "    ones = np.eye(256)\n",
    "    y_pred = []\n",
    "    for sample in x_test:\n",
    "        norms = []\n",
    "        for digit in svd_dict[components].keys():\n",
    "            # since for digits 0, 1 and 6 greater accuracy and\n",
    "            # F1-score can relative easy be achieved use a different\n",
    "            # number of basis vectors (smaller). And apply the same\n",
    "            # proceedure.\n",
    "            if digit == 1:\n",
    "                svd = svd_dict[dig_component][digit]\n",
    "                norms.append(norm(np.dot(ones - np.dot(svd, svd.T),\n",
    "                                         sample))/norm(sample))\n",
    "            else:\n",
    "                svd = svd_dict[components][digit]\n",
    "                norms.append(norm(np.dot(ones - np.dot(svd, svd.T),\n",
    "                                         sample))/norm(sample))\n",
    "        y_pred.append(norms.index(min(norms)))\n",
    "    return y_pred\n"
   ]
  },
  {
   "cell_type": "markdown",
   "metadata": {},
   "source": [
    "### Classifier - Optional Question 1"
   ]
  },
  {
   "cell_type": "code",
   "execution_count": 9,
   "metadata": {},
   "outputs": [],
   "source": [
    "def svd_classifier_adj2(x_test, components, svd_dict):\n",
    "    ones = np.eye(256)\n",
    "    y_pred = []\n",
    "    counter = 0\n",
    "    digits_pass = {el: 0 for el in list(svd_dict[components].keys())}\n",
    "    for sample in x_test:\n",
    "        norms = []\n",
    "        for digit in svd_dict[components].keys():\n",
    "            svd = svd_dict[components][digit]\n",
    "            # compare the unknown digit only to the first singular vector in each class\n",
    "            norms.append(norm(np.dot(ones - np.dot(svd[:, 0:1], svd[:, 0:1].T),\n",
    "                                     sample))/norm(sample))\n",
    "        # If for one class the residual is significantly smaller\n",
    "        # than for the others, classify as that class.\n",
    "        if norm(sorted(norms)[1] - sorted(norms)[0]) > 0.1:\n",
    "            pred = norms.index(min(norms))\n",
    "            y_pred.append(norms.index(min(norms)))\n",
    "            counter += 1\n",
    "            digits_pass[pred] += 1\n",
    "            continue\n",
    "        norms = []\n",
    "        for digit in svd_dict[components].keys():\n",
    "            svd = svd_dict[components][digit]\n",
    "            norms.append(norm(np.dot(ones - np.dot(svd, svd.T),\n",
    "                                     sample))/norm(sample))\n",
    "        y_pred.append(norms.index(min(norms)))\n",
    "    print(\"The second stage is unnecessary\", counter, \"times.\")\n",
    "    print(digits_pass)\n",
    "    return y_pred\n"
   ]
  },
  {
   "cell_type": "markdown",
   "metadata": {},
   "source": [
    "## Question 1"
   ]
  },
  {
   "cell_type": "code",
   "execution_count": 56,
   "metadata": {},
   "outputs": [],
   "source": [
    "# initialize variables for the classification task\n",
    "dict_train = create_dict(X_train, y_train)\n",
    "svd_dict = trunc_svd(dict_train)\n"
   ]
  },
  {
   "cell_type": "markdown",
   "metadata": {},
   "source": [
    "The following block of code runs the SVD classification algoirthm for a number of basis vectors in the range (5,20). Different metrics are used to evaluate the different approaches i.e. accuracy, recall, precision and F1-score.\n",
    "\n",
    "<b>Accuracy</b> is the number of correct predictions made divided by the total number of predictions made, multiplied by one hundred (100) to turn it into a percentage. In order to calculate the total cost ratio mentioned below we also calculate error rate, which is one minus Accuracy.\n",
    "\n",
    "<b>Precision</b> is the number of True Positives divided by the number of True Positives and False Positives. Precision can be considered a measure of a classifier’s exactness. A low precision can also indicate a large number of False Positives.\n",
    "\n",
    "<b>Recall</b> is the number of True Positives divided by the number of True Positives and the number of False Negatives. In other way, it is the number of positive predictions divided by the number of positive class values in the test data. It is also known as Sensitivity or the True Positive Rate. Recall is a measure of a classifiers completeness. A low recall indicates many False  egatives.\n",
    "\n",
    "A system with high recall but low precision returns many results, but most of its predicted labels are incorrect when compared to the training labels. A system with high precision but low recall is just the opposite, returning very few results, but most of its predicted labels are correct when compared to the training labels. An ideal system with high precision and high recall will return many results, with all results labeled correctly.\n",
    "\n",
    "<b>F1-score</b> is the 2 * ((precision * recall) / (precision + recall)). In other words, the F1-score conveys the balance between the precision and the recall."
   ]
  },
  {
   "cell_type": "code",
   "execution_count": 58,
   "metadata": {},
   "outputs": [
    {
     "name": "stdout",
     "output_type": "stream",
     "text": [
      "Number of SVD basis vectors: 5\n",
      "Accuracy: 0.902342\n",
      "Precision: 0.891782985528\n",
      "Recall: 0.895423528187\n",
      "F1-score: 0.892877972466\n",
      "\n",
      "Number of SVD basis vectors: 6\n",
      "Accuracy: 0.905331\n",
      "Precision: 0.895055429928\n",
      "Recall: 0.898731444668\n",
      "F1-score: 0.896204935929\n",
      "\n",
      "Number of SVD basis vectors: 7\n",
      "Accuracy: 0.916791\n",
      "Precision: 0.90701543579\n",
      "Recall: 0.911837725095\n",
      "F1-score: 0.908945281242\n",
      "\n",
      "Number of SVD basis vectors: 8\n",
      "Accuracy: 0.920279\n",
      "Precision: 0.910803853313\n",
      "Recall: 0.916317680559\n",
      "F1-score: 0.913088773633\n",
      "\n",
      "Number of SVD basis vectors: 9\n",
      "Accuracy: 0.927255\n",
      "Precision: 0.917802052084\n",
      "Recall: 0.923900326546\n",
      "F1-score: 0.920476481327\n",
      "\n",
      "Number of SVD basis vectors: 10\n",
      "Accuracy: 0.931739\n",
      "Precision: 0.923053081208\n",
      "Recall: 0.928232565664\n",
      "F1-score: 0.925336710235\n",
      "\n",
      "Number of SVD basis vectors: 11\n",
      "Accuracy: 0.931739\n",
      "Precision: 0.92307306617\n",
      "Recall: 0.928736685408\n",
      "F1-score: 0.925578478876\n",
      "\n",
      "Number of SVD basis vectors: 12\n",
      "Accuracy: 0.936721\n",
      "Precision: 0.928785012689\n",
      "Recall: 0.934109157088\n",
      "F1-score: 0.931177091097\n",
      "\n",
      "Number of SVD basis vectors: 13\n",
      "Accuracy: 0.936223\n",
      "Precision: 0.928205866593\n",
      "Recall: 0.934350144198\n",
      "F1-score: 0.931028143728\n",
      "\n",
      "Number of SVD basis vectors: 14\n",
      "Accuracy: 0.938714\n",
      "Precision: 0.931004306532\n",
      "Recall: 0.935773027179\n",
      "F1-score: 0.93313101849\n",
      "\n",
      "Number of SVD basis vectors: 15\n",
      "Accuracy: 0.941206\n",
      "Precision: 0.934032807943\n",
      "Recall: 0.939782597452\n",
      "F1-score: 0.936662939923\n",
      "\n",
      "Number of SVD basis vectors: 16\n",
      "Accuracy: 0.938714\n",
      "Precision: 0.931350168035\n",
      "Recall: 0.93746229017\n",
      "F1-score: 0.934087810612\n",
      "\n",
      "Number of SVD basis vectors: 17\n",
      "Accuracy: 0.938216\n",
      "Precision: 0.930707062\n",
      "Recall: 0.93690854536\n",
      "F1-score: 0.933479374911\n",
      "\n",
      "Number of SVD basis vectors: 18\n",
      "Accuracy: 0.942202\n",
      "Precision: 0.935631995881\n",
      "Recall: 0.941641833229\n",
      "F1-score: 0.938344052545\n",
      "\n",
      "Number of SVD basis vectors: 19\n",
      "Accuracy: 0.940708\n",
      "Precision: 0.933547135723\n",
      "Recall: 0.939216241277\n",
      "F1-score: 0.936124110465\n",
      "\n",
      "Number of SVD basis vectors: 20\n",
      "Accuracy: 0.939711\n",
      "Precision: 0.932250279632\n",
      "Recall: 0.938095914116\n",
      "F1-score: 0.934888698608\n",
      "\n"
     ]
    }
   ],
   "source": [
    "accuracy_test = []\n",
    "accuracy_train = []\n",
    "vectors = np.arange(5, 21, 1)\n",
    "\n",
    "# Use the first few (5-20) singular vectors as basis and\n",
    "# classify unknown test digits according to how well\n",
    "# they can be represented in terms of the respective bases.\n",
    "# Calculate accuracy, precision, recall and f1-score for\n",
    "# the different number of basis vectors.\n",
    "for i in range(5, 21):\n",
    "    y_pred_train = svd_classifier(X_train, i, svd_dict)\n",
    "    y_pred_test = svd_classifier(X_test, i, svd_dict)\n",
    "\n",
    "    print (\"Number of SVD basis vectors:\", i)\n",
    "\n",
    "    acc_train = accuracy_score(y_pred_train, y_train.ravel())\n",
    "    acc_test = accuracy_score(y_pred_test, y_test.ravel())\n",
    "    print(\"Accuracy: %0.6f\" % (acc_test))\n",
    "\n",
    "    precision = precision_score(y_pred_test, y_test.ravel(), average=\"macro\")\n",
    "    print ('Precision:', precision)\n",
    "\n",
    "    recall = recall_score(y_pred_test, y_test.ravel(), average=\"macro\")\n",
    "    print ('Recall:', recall)\n",
    "\n",
    "    f1score = f1_score(y_pred_test, y_test.ravel(), average=\"macro\")\n",
    "    print ('F1-score:', f1score)\n",
    "\n",
    "    accuracy_test.append(acc_test)\n",
    "    accuracy_train.append(acc_train)\n",
    "    print()\n"
   ]
  },
  {
   "cell_type": "code",
   "execution_count": 263,
   "metadata": {
    "scrolled": true
   },
   "outputs": [
    {
     "name": "stdout",
     "output_type": "stream",
     "text": [
      "---Maximum Accuracy---\n",
      "Number of Basis Vectors: 20, Accuracy: 0.99589923843\n"
     ]
    },
    {
     "data": {
      "image/png": "[encoded data removed]",
      "text/plain": [
       "<matplotlib.figure.Figure at 0x21ee8f26cf8>"
      ]
     },
     "metadata": {},
     "output_type": "display_data"
    }
   ],
   "source": [
    "# plot the percentage of correctly classified digits\n",
    "# as a function of the number of basis vectors for the\n",
    "# training set.\n",
    "\n",
    "fig = plt.figure()\n",
    "ax = fig.add_subplot(111)\n",
    "\n",
    "plt.xlabel('Number of Basis Vectors')\n",
    "plt.ylabel('Accuracy')\n",
    "plt.title(\"Accuracy vs. Number of Basis Vectors on Train Set\")\n",
    "\n",
    "ymax = max(accuracy_train)\n",
    "xpos = accuracy_train.index(ymax)\n",
    "xmax = vectors[xpos]\n",
    "print(\"---Maximum Accuracy---\")\n",
    "print(\"Number of Basis Vectors: \" + str(xmax) + \", Accuracy: \" + str(ymax))\n",
    "ax.annotate('maximum accuracy', xy=(xmax, ymax), xytext=(xmax-4, ymax-0.004),\n",
    "            arrowprops=dict(color='red', arrowstyle=\"->\"),\n",
    "            )\n",
    "\n",
    "plt.plot(vectors, accuracy_train, marker='*')\n",
    "plt.show()\n"
   ]
  },
  {
   "cell_type": "code",
   "execution_count": 262,
   "metadata": {},
   "outputs": [
    {
     "name": "stdout",
     "output_type": "stream",
     "text": [
      "---Maximum Accuracy---\n",
      "Number of Basis Vectors: 18, Accuracy: 0.942202291978\n"
     ]
    },
    {
     "data": {
      "image/png": "[encoded data removed]",
      "text/plain": [
       "<matplotlib.figure.Figure at 0x21ee9578be0>"
      ]
     },
     "metadata": {},
     "output_type": "display_data"
    }
   ],
   "source": [
    "# plot the percentage of correctly classified digits\n",
    "# as a function of the number of basis vectors for the\n",
    "# test set. We observe maximum accuracy for 18 basis vectors.\n",
    "# However, for 15 basis vectors we have almost the same \n",
    "# accuracy concequently could use 15 basis vectors in favor of\n",
    "# parsimonious models.\n",
    "\n",
    "fig = plt.figure()\n",
    "ax = fig.add_subplot(111)\n",
    "\n",
    "plt.xlabel('Number of Basis Vectors')\n",
    "plt.ylabel('Accuracy')\n",
    "plt.title(\"Accuracy vs. Number of Basis Vectors on Test Set\")\n",
    "\n",
    "ymax = max(accuracy_test)\n",
    "xpos = accuracy_test.index(ymax)\n",
    "xmax = vectors[xpos]\n",
    "print(\"---Maximum Accuracy---\")\n",
    "print(\"Number of Basis Vectors: \" + str(xmax) + \", Accuracy: \" + str(ymax))\n",
    "ax.annotate('maximum accuracy', xy=(xmax, ymax), xytext=(xmax-3, ymax-0.01),\n",
    "            arrowprops=dict(color='red', arrowstyle=\"->\"))\n",
    "\n",
    "plt.plot(vectors, accuracy_test, marker='*')\n",
    "plt.show()\n"
   ]
  },
  {
   "cell_type": "markdown",
   "metadata": {},
   "source": [
    "## Question 2"
   ]
  },
  {
   "cell_type": "code",
   "execution_count": 58,
   "metadata": {},
   "outputs": [
    {
     "name": "stdout",
     "output_type": "stream",
     "text": [
      "Classification report for SVD basis classification algorithm:\n",
      "             precision    recall  f1-score   support\n",
      "\n",
      "          0       0.94      0.99      0.96       359\n",
      "          1       0.97      0.98      0.98       264\n",
      "          2       0.95      0.90      0.93       198\n",
      "          3       0.90      0.89      0.90       166\n",
      "          4       0.92      0.93      0.93       200\n",
      "          5       0.92      0.88      0.89       160\n",
      "          6       0.98      0.95      0.96       170\n",
      "          7       0.93      0.96      0.95       147\n",
      "          8       0.96      0.92      0.94       166\n",
      "          9       0.93      0.93      0.93       177\n",
      "\n",
      "avg / total       0.94      0.94      0.94      2007\n",
      "\n",
      "\n"
     ]
    }
   ],
   "source": [
    "# print the main classification metrics i.e.\n",
    "# precision, recall and f1-score for each class\n",
    "# We observe that it is easier to classify digits\n",
    "# 0, 1 and 6 and more difficu,lt digits 5 and 3.\n",
    "y_pred = svd_classifier(X_test, 15, svd_dict)\n",
    "print(\"Classification report for %s:\\n%s\\n\"\n",
    "      % (\"SVD basis classification algorithm\",\n",
    "         classification_report(y_test, y_pred)))\n"
   ]
  },
  {
   "cell_type": "code",
   "execution_count": 289,
   "metadata": {},
   "outputs": [
    {
     "name": "stdout",
     "output_type": "stream",
     "text": [
      "[[355   0   2   0   1   0   0   0   0   1]\n",
      " [  0 259   0   0   3   0   2   0   0   0]\n",
      " [  8   1 178   2   5   0   0   1   3   0]\n",
      " [  2   0   3 150   1   6   0   1   2   1]\n",
      " [  2   1   0   0 185   2   0   3   0   7]\n",
      " [  7   1   1   5   0 141   0   0   2   3]\n",
      " [  2   1   0   0   2   1 163   0   1   0]\n",
      " [  0   1   1   0   3   0   0 141   0   1]\n",
      " [  2   0   1   6   0   1   0   0 153   3]\n",
      " [  0   2   0   1   4   0   0   2   2 166]]\n"
     ]
    }
   ],
   "source": [
    "# print the confusion matrix\n",
    "# We observe again that it is easier to classify digits\n",
    "# 0, 1 and 6 and more difficu,lt digits 5 and 3.\n",
    "digits = sorted(set(list(y_test.ravel())))\n",
    "confusion = confusion_matrix(y_test, y_pred, labels=digits)\n",
    "print(confusion)\n"
   ]
  },
  {
   "cell_type": "code",
   "execution_count": 11,
   "metadata": {},
   "outputs": [
    {
     "data": {
      "image/png": "[encoded data removed]",
      "text/plain": [
       "<matplotlib.figure.Figure at 0x2218af94320>"
      ]
     },
     "metadata": {},
     "output_type": "display_data"
    },
    {
     "data": {
      "image/png": "[encoded data removed]",
      "text/plain": [
       "<matplotlib.figure.Figure at 0x2218cb04400>"
      ]
     },
     "metadata": {},
     "output_type": "display_data"
    },
    {
     "data": {
      "image/png": "[encoded data removed]",
      "text/plain": [
       "<matplotlib.figure.Figure at 0x2218cc1a278>"
      ]
     },
     "metadata": {},
     "output_type": "display_data"
    },
    {
     "data": {
      "image/png": "[encoded data removed]",
      "text/plain": [
       "<matplotlib.figure.Figure at 0x2218e98fe48>"
      ]
     },
     "metadata": {},
     "output_type": "display_data"
    },
    {
     "data": {
      "image/png": "[encoded data removed]",
      "text/plain": [
       "<matplotlib.figure.Figure at 0x2218ea36be0>"
      ]
     },
     "metadata": {},
     "output_type": "display_data"
    },
    {
     "data": {
      "image/png": "[encoded data removed]",
      "text/plain": [
       "<matplotlib.figure.Figure at 0x2218ea23160>"
      ]
     },
     "metadata": {},
     "output_type": "display_data"
    },
    {
     "data": {
      "image/png": "[encoded data removed]",
      "text/plain": [
       "<matplotlib.figure.Figure at 0x2218eb96748>"
      ]
     },
     "metadata": {},
     "output_type": "display_data"
    },
    {
     "data": {
      "image/png": "[encoded data removed]",
      "text/plain": [
       "<matplotlib.figure.Figure at 0x2218ec37f28>"
      ]
     },
     "metadata": {},
     "output_type": "display_data"
    },
    {
     "data": {
      "image/png": "[encoded data removed]",
      "text/plain": [
       "<matplotlib.figure.Figure at 0x2218e9e1c18>"
      ]
     },
     "metadata": {},
     "output_type": "display_data"
    },
    {
     "data": {
      "image/png": "[encoded data removed]",
      "text/plain": [
       "<matplotlib.figure.Figure at 0x22190260c88>"
      ]
     },
     "metadata": {},
     "output_type": "display_data"
    },
    {
     "data": {
      "image/png": "[encoded data removed]",
      "text/plain": [
       "<matplotlib.figure.Figure at 0x2219030d7b8>"
      ]
     },
     "metadata": {},
     "output_type": "display_data"
    }
   ],
   "source": [
    "# print the digits 5 and 3, as they seem to be\n",
    "# the most difficult digits to predict. We observe \n",
    "# that in many cases they are very badly written.\n",
    "to_image(5, dict_train)"
   ]
  },
  {
   "cell_type": "code",
   "execution_count": 12,
   "metadata": {},
   "outputs": [
    {
     "data": {
      "image/png": "[encoded data removed]",
      "text/plain": [
       "<matplotlib.figure.Figure at 0x221904fc4a8>"
      ]
     },
     "metadata": {},
     "output_type": "display_data"
    },
    {
     "data": {
      "image/png": "[encoded data removed]",
      "text/plain": [
       "<matplotlib.figure.Figure at 0x221982f4cf8>"
      ]
     },
     "metadata": {},
     "output_type": "display_data"
    },
    {
     "data": {
      "image/png": "[encoded data removed]",
      "text/plain": [
       "<matplotlib.figure.Figure at 0x221983a53c8>"
      ]
     },
     "metadata": {},
     "output_type": "display_data"
    },
    {
     "data": {
      "image/png": "[encoded data removed]",
      "text/plain": [
       "<matplotlib.figure.Figure at 0x22198455208>"
      ]
     },
     "metadata": {},
     "output_type": "display_data"
    },
    {
     "data": {
      "image/png": "[encoded data removed]",
      "text/plain": [
       "<matplotlib.figure.Figure at 0x2219850ac50>"
      ]
     },
     "metadata": {},
     "output_type": "display_data"
    },
    {
     "data": {
      "image/png": "[encoded data removed]",
      "text/plain": [
       "<matplotlib.figure.Figure at 0x221985b3f28>"
      ]
     },
     "metadata": {},
     "output_type": "display_data"
    },
    {
     "data": {
      "image/png": "[encoded data removed]",
      "text/plain": [
       "<matplotlib.figure.Figure at 0x22198665b38>"
      ]
     },
     "metadata": {},
     "output_type": "display_data"
    },
    {
     "data": {
      "image/png": "[encoded data removed]",
      "text/plain": [
       "<matplotlib.figure.Figure at 0x221986ccc88>"
      ]
     },
     "metadata": {},
     "output_type": "display_data"
    },
    {
     "data": {
      "image/png": "[encoded data removed]",
      "text/plain": [
       "<matplotlib.figure.Figure at 0x2218ecfdb00>"
      ]
     },
     "metadata": {},
     "output_type": "display_data"
    },
    {
     "data": {
      "image/png": "[encoded data removed]",
      "text/plain": [
       "<matplotlib.figure.Figure at 0x2218eaba828>"
      ]
     },
     "metadata": {},
     "output_type": "display_data"
    },
    {
     "data": {
      "image/png": "[encoded data removed]",
      "text/plain": [
       "<matplotlib.figure.Figure at 0x221905064a8>"
      ]
     },
     "metadata": {},
     "output_type": "display_data"
    }
   ],
   "source": [
    "to_image(3, dict_train)"
   ]
  },
  {
   "cell_type": "markdown",
   "metadata": {},
   "source": [
    "## Question 3"
   ]
  },
  {
   "cell_type": "code",
   "execution_count": 34,
   "metadata": {},
   "outputs": [
    {
     "name": "stdout",
     "output_type": "stream",
     "text": [
      "0 [ 184.39208735   97.62999506   62.05144838   54.16719526   41.07251572\n",
      "   40.3698978    36.29211339   30.04224049   29.02681274   24.95262983]\n",
      "\n",
      "1 [ 234.04118961   41.93090664   24.84924907   16.29486533   13.61098805\n",
      "   12.52206052   11.22864999   10.66852978    8.41487974    8.32324732]\n",
      "\n",
      "2 [ 138.11303655   57.42205249   46.41253545   40.99243114   37.52899434\n",
      "   33.54935583   32.261084     28.40927497   27.12355484   26.75231719]\n",
      "\n",
      "3 [ 126.61913625   39.77346548   33.32515946   29.87409622   27.96518444\n",
      "   24.77196174   24.38712751   21.46262269   19.06415242   18.59590136]\n",
      "\n",
      "4 [ 123.00299503   41.62497098   34.93229398   32.29168628   26.81484224\n",
      "   24.57001768   21.86946872   20.45010894   20.09385652   18.45663152]\n",
      "\n",
      "5 [ 94.20966922  37.85636334  35.79668798  28.02520801  24.05115798\n",
      "  22.47152231  20.63420827  20.37863014  17.08367974  16.83374893]\n",
      "\n",
      "6 [ 141.95380469   52.19540036   37.96629568   32.01502395   26.28661476\n",
      "   25.1406327    21.20116338   20.93586868   19.34309253   18.88908792]\n",
      "\n",
      "7 [ 160.1080824    46.73246364   36.53630414   34.69592699   31.51530282\n",
      "   22.49212816   20.38556917   19.20085628   17.59058172   16.83441044]\n",
      "\n",
      "8 [ 133.05356064   41.64418851   34.46258187   30.49939551   28.71635347\n",
      "   25.47723428   22.61162817   21.893213     20.91290702   19.46962877]\n",
      "\n",
      "9 [ 141.21836341   45.72340792   30.05698147   29.45732528   22.93227798\n",
      "   20.49819327   18.80502485   16.97915618   15.21856587   14.81128628]\n",
      "\n"
     ]
    }
   ],
   "source": [
    "# Check the singular values of the different classes.\n",
    "# In the class \"1\", we observe that first singular value\n",
    "# is significantly higher than the rest singular values.\n",
    "# Consequently, we could use fewer basis vector for that class.\n",
    "# It should also be noted that this is the class which\n",
    "# present the highest F1-score\n",
    "for i in range(0, 10):\n",
    "    print(i, svd_tranform(10, dict_train[i])[1])\n",
    "    print()\n"
   ]
  },
  {
   "cell_type": "markdown",
   "metadata": {},
   "source": [
    "#### Use one basis vector in class 1 "
   ]
  },
  {
   "cell_type": "code",
   "execution_count": 43,
   "metadata": {},
   "outputs": [
    {
     "name": "stdout",
     "output_type": "stream",
     "text": [
      "Classification report for SVD basis classification algorithm:\n",
      "             precision    recall  f1-score   support\n",
      "\n",
      "          0       0.94      0.99      0.96       359\n",
      "          1       1.00      0.84      0.91       264\n",
      "          2       0.95      0.90      0.93       198\n",
      "          3       0.90      0.89      0.90       166\n",
      "          4       0.85      0.93      0.89       200\n",
      "          5       0.91      0.88      0.90       160\n",
      "          6       0.93      0.95      0.94       170\n",
      "          7       0.93      0.96      0.95       147\n",
      "          8       0.87      0.92      0.90       166\n",
      "          9       0.93      0.95      0.94       177\n",
      "\n",
      "avg / total       0.93      0.92      0.92      2007\n",
      "\n",
      "\n"
     ]
    }
   ],
   "source": [
    "y_pred = svd_classifier_adj(X_test, 15, svd_dict, 1)\n",
    "print(\"Classification report for %s:\\n%s\\n\"\n",
    "      % (\"SVD basis classification algorithm\",\n",
    "         classification_report(y_test, y_pred)))\n"
   ]
  },
  {
   "cell_type": "code",
   "execution_count": 44,
   "metadata": {},
   "outputs": [
    {
     "name": "stdout",
     "output_type": "stream",
     "text": [
      "[[355   0   2   0   1   0   0   0   0   1]\n",
      " [  0 221   1   0  18   0   9   0  15   0]\n",
      " [  9   0 179   3   3   1   0   1   2   0]\n",
      " [  3   0   3 148   1   8   0   1   2   0]\n",
      " [  1   1   0   0 186   1   3   3   0   5]\n",
      " [  4   0   2   9   0 141   0   0   1   3]\n",
      " [  3   0   0   0   3   2 162   0   0   0]\n",
      " [  0   0   1   0   3   0   0 141   0   2]\n",
      " [  3   0   1   4   0   2   0   1 153   2]\n",
      " [  0   0   0   0   3   0   0   4   2 168]]\n"
     ]
    }
   ],
   "source": [
    "digits = sorted(set(list(y_test.ravel())))\n",
    "confusion = confusion_matrix(y_test, y_pred, labels=digits)\n",
    "print(confusion)\n"
   ]
  },
  {
   "cell_type": "markdown",
   "metadata": {},
   "source": [
    "#### Use two basis vectors in class 1"
   ]
  },
  {
   "cell_type": "code",
   "execution_count": 45,
   "metadata": {},
   "outputs": [
    {
     "name": "stdout",
     "output_type": "stream",
     "text": [
      "Classification report for SVD basis classification algorithm:\n",
      "             precision    recall  f1-score   support\n",
      "\n",
      "          0       0.94      0.99      0.96       359\n",
      "          1       1.00      0.91      0.95       264\n",
      "          2       0.95      0.90      0.93       198\n",
      "          3       0.90      0.89      0.90       166\n",
      "          4       0.88      0.93      0.90       200\n",
      "          5       0.91      0.88      0.90       160\n",
      "          6       0.93      0.95      0.94       170\n",
      "          7       0.93      0.96      0.95       147\n",
      "          8       0.94      0.92      0.93       166\n",
      "          9       0.93      0.95      0.94       177\n",
      "\n",
      "avg / total       0.93      0.93      0.93      2007\n",
      "\n",
      "\n"
     ]
    }
   ],
   "source": [
    "y_pred = svd_classifier_adj(X_test, 15, svd_dict, 2)\n",
    "print(\"Classification report for %s:\\n%s\\n\"\n",
    "      % (\"SVD basis classification algorithm\",\n",
    "         classification_report(y_test, y_pred)))\n"
   ]
  },
  {
   "cell_type": "code",
   "execution_count": 46,
   "metadata": {},
   "outputs": [
    {
     "name": "stdout",
     "output_type": "stream",
     "text": [
      "[[355   0   2   0   1   0   0   0   0   1]\n",
      " [  0 239   1   0  12   0   9   0   3   0]\n",
      " [  9   0 179   3   3   1   0   1   2   0]\n",
      " [  3   0   3 148   1   8   0   1   2   0]\n",
      " [  1   1   0   0 186   1   3   3   0   5]\n",
      " [  4   0   2   9   0 141   0   0   1   3]\n",
      " [  3   0   0   0   3   2 162   0   0   0]\n",
      " [  0   0   1   0   3   0   0 141   0   2]\n",
      " [  3   0   1   4   0   2   0   1 153   2]\n",
      " [  0   0   0   0   3   0   0   4   2 168]]\n"
     ]
    }
   ],
   "source": [
    "digit s= sorted(set(list(y_test.ravel())))\n",
    "confusion = confusion_matrix(y_test, y_pred, labels=digits)\n",
    "print(confusion)\n"
   ]
  },
  {
   "cell_type": "markdown",
   "metadata": {},
   "source": [
    "#### Use three basis vectors in class 1"
   ]
  },
  {
   "cell_type": "code",
   "execution_count": 47,
   "metadata": {},
   "outputs": [
    {
     "name": "stdout",
     "output_type": "stream",
     "text": [
      "Classification report for SVD basis classification algorithm:\n",
      "             precision    recall  f1-score   support\n",
      "\n",
      "          0       0.94      0.99      0.96       359\n",
      "          1       1.00      0.92      0.96       264\n",
      "          2       0.95      0.90      0.93       198\n",
      "          3       0.90      0.89      0.90       166\n",
      "          4       0.88      0.93      0.91       200\n",
      "          5       0.91      0.88      0.90       160\n",
      "          6       0.94      0.95      0.95       170\n",
      "          7       0.93      0.96      0.95       147\n",
      "          8       0.95      0.92      0.94       166\n",
      "          9       0.93      0.95      0.94       177\n",
      "\n",
      "avg / total       0.94      0.94      0.94      2007\n",
      "\n",
      "\n"
     ]
    }
   ],
   "source": [
    "y_pred = svd_classifier_adj(X_test, 15, svd_dict, 3)\n",
    "print(\"Classification report for %s:\\n%s\\n\"\n",
    "      % (\"SVD basis classification algorithm\",\n",
    "         classification_report(y_test, y_pred)))\n"
   ]
  },
  {
   "cell_type": "code",
   "execution_count": 48,
   "metadata": {},
   "outputs": [
    {
     "name": "stdout",
     "output_type": "stream",
     "text": [
      "[[355   0   2   0   1   0   0   0   0   1]\n",
      " [  0 244   1   0  11   0   7   0   1   0]\n",
      " [  9   0 179   3   3   1   0   1   2   0]\n",
      " [  3   0   3 148   1   8   0   1   2   0]\n",
      " [  1   1   0   0 186   1   3   3   0   5]\n",
      " [  4   0   2   9   0 141   0   0   1   3]\n",
      " [  3   0   0   0   3   2 162   0   0   0]\n",
      " [  0   0   1   0   3   0   0 141   0   2]\n",
      " [  3   0   1   4   0   2   0   1 153   2]\n",
      " [  0   0   0   0   3   0   0   4   2 168]]\n"
     ]
    }
   ],
   "source": [
    "digits = sorted(set(list(y_test.ravel())))\n",
    "confusion = confusion_matrix(y_test, y_pred, labels=digits)\n",
    "print(confusion)\n"
   ]
  },
  {
   "cell_type": "markdown",
   "metadata": {},
   "source": [
    "#### Use four basis vectors in class 1"
   ]
  },
  {
   "cell_type": "code",
   "execution_count": 49,
   "metadata": {},
   "outputs": [
    {
     "name": "stdout",
     "output_type": "stream",
     "text": [
      "Classification report for SVD basis classification algorithm:\n",
      "             precision    recall  f1-score   support\n",
      "\n",
      "          0       0.94      0.99      0.96       359\n",
      "          1       1.00      0.93      0.96       264\n",
      "          2       0.95      0.90      0.93       198\n",
      "          3       0.90      0.89      0.90       166\n",
      "          4       0.89      0.93      0.91       200\n",
      "          5       0.91      0.88      0.90       160\n",
      "          6       0.95      0.95      0.95       170\n",
      "          7       0.93      0.96      0.95       147\n",
      "          8       0.95      0.92      0.94       166\n",
      "          9       0.93      0.95      0.94       177\n",
      "\n",
      "avg / total       0.94      0.94      0.94      2007\n",
      "\n",
      "\n"
     ]
    }
   ],
   "source": [
    "y_pred = svd_classifier_adj(X_test, 15, svd_dict, 4)\n",
    "print(\"Classification report for %s:\\n%s\\n\"\n",
    "      % (\"SVD basis classification algorithm\",\n",
    "         classification_report(y_test, y_pred)))\n"
   ]
  },
  {
   "cell_type": "code",
   "execution_count": 50,
   "metadata": {},
   "outputs": [
    {
     "name": "stdout",
     "output_type": "stream",
     "text": [
      "[[355   0   2   0   1   0   0   0   0   1]\n",
      " [  0 246   1   0  10   0   6   0   1   0]\n",
      " [  9   0 179   3   3   1   0   1   2   0]\n",
      " [  3   0   3 148   1   8   0   1   2   0]\n",
      " [  1   1   0   0 186   1   3   3   0   5]\n",
      " [  4   0   2   9   0 141   0   0   1   3]\n",
      " [  3   0   0   0   3   2 162   0   0   0]\n",
      " [  0   0   1   0   3   0   0 141   0   2]\n",
      " [  3   0   1   4   0   2   0   1 153   2]\n",
      " [  0   0   0   0   3   0   0   4   2 168]]\n"
     ]
    }
   ],
   "source": [
    "digits = sorted(set(list(y_test.ravel())))\n",
    "confusion = confusion_matrix(y_test, y_pred, labels=digits)\n",
    "print(confusion)\n"
   ]
  },
  {
   "cell_type": "markdown",
   "metadata": {},
   "source": [
    "Consequently, according to the above experiments it seems that it pays off to use fewer basis vectors in one some of the classes. Indeed, having more parsimonious models enables us to ensure avoiding also problems such as overfitting."
   ]
  },
  {
   "cell_type": "markdown",
   "metadata": {},
   "source": [
    "## Optional Question 1"
   ]
  },
  {
   "cell_type": "code",
   "execution_count": 51,
   "metadata": {},
   "outputs": [
    {
     "name": "stdout",
     "output_type": "stream",
     "text": [
      "The second stage is unnecessary 1028 times.\n",
      "{0: 220, 1: 255, 2: 60, 3: 79, 4: 68, 5: 23, 6: 107, 7: 81, 8: 55, 9: 80}\n"
     ]
    }
   ],
   "source": [
    "# The second stage is unnecessary 1028 times.\n",
    "# we observe that in the first stage of the algorithm\n",
    "# are ussually classified digits of class 0,1 and 6. Indeed,\n",
    "# those are the classes with the highest F1-score and accuracy\n",
    "# as we observed also above.\n",
    "y_pred = svd_classifier_adj2(X_test, 15, svd_dict)\n"
   ]
  },
  {
   "cell_type": "markdown",
   "metadata": {},
   "source": [
    "According to the following classification report and confusion matrix it seems that it is possible to get as good results for this variant of the algorithm. Additionally, that version of the algorithm can be a little bit faster as we only compute the relative residual taking into account the first singular vector."
   ]
  },
  {
   "cell_type": "code",
   "execution_count": 54,
   "metadata": {},
   "outputs": [
    {
     "name": "stdout",
     "output_type": "stream",
     "text": [
      "Classification report for SVD basis classification algorithm:\n",
      "             precision    recall  f1-score   support\n",
      "\n",
      "          0       0.94      0.98      0.96       359\n",
      "          1       0.97      0.98      0.98       264\n",
      "          2       0.95      0.89      0.92       198\n",
      "          3       0.90      0.89      0.90       166\n",
      "          4       0.90      0.93      0.91       200\n",
      "          5       0.91      0.87      0.89       160\n",
      "          6       0.96      0.95      0.96       170\n",
      "          7       0.94      0.96      0.95       147\n",
      "          8       0.95      0.92      0.94       166\n",
      "          9       0.92      0.93      0.92       177\n",
      "\n",
      "avg / total       0.94      0.94      0.94      2007\n",
      "\n",
      "\n"
     ]
    }
   ],
   "source": [
    "print(\"Classification report for %s:\\n%s\\n\"\n",
    "      % (\"SVD basis classification algorithm\",\n",
    "         classification_report(y_test, y_pred)))\n"
   ]
  },
  {
   "cell_type": "code",
   "execution_count": 59,
   "metadata": {},
   "outputs": [
    {
     "name": "stdout",
     "output_type": "stream",
     "text": [
      "[[355   0   2   0   1   0   0   0   0   1]\n",
      " [  0 260   0   0   3   0   1   0   0   0]\n",
      " [  9   1 179   3   2   1   0   1   2   0]\n",
      " [  3   0   3 148   1   8   0   1   2   0]\n",
      " [  1   1   0   0 186   1   3   3   0   5]\n",
      " [  4   1   2   9   0 140   0   0   1   3]\n",
      " [  3   1   0   0   3   1 162   0   0   0]\n",
      " [  0   1   1   0   3   0   0 141   0   1]\n",
      " [  3   0   1   4   0   2   0   1 153   2]\n",
      " [  0   3   0   0   3   0   0   4   2 165]]\n"
     ]
    }
   ],
   "source": [
    "digits = sorted(set(list(y_test.ravel())))\n",
    "confusion = confusion_matrix(y_test, y_pred, labels=digits)\n",
    "print(confusion)\n"
   ]
  }
 ],
 "metadata": {
  "kernelspec": {
   "display_name": "Python 3",
   "language": "python",
   "name": "python3"
  },
  "language_info": {
   "codemirror_mode": {
    "name": "ipython",
    "version": 3
   },
   "file_extension": ".py",
   "mimetype": "text/x-python",
   "name": "python",
   "nbconvert_exporter": "python",
   "pygments_lexer": "ipython3",
   "version": "3.6.3"
  }
 },
 "nbformat": 4,
 "nbformat_minor": 2
}
